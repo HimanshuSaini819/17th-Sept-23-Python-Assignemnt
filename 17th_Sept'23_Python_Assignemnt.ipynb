{
  "nbformat": 4,
  "nbformat_minor": 0,
  "metadata": {
    "colab": {
      "provenance": []
    },
    "kernelspec": {
      "name": "python3",
      "display_name": "Python 3"
    },
    "language_info": {
      "name": "python"
    }
  },
  "cells": [
    {
      "cell_type": "markdown",
      "source": [
        "**For Loop :-**\n",
        "\n"
      ],
      "metadata": {
        "id": "G_cMdOvB_WaN"
      }
    },
    {
      "cell_type": "code",
      "source": [
        "#1.Write a Python program to print numbers from 1 to 10 using a for loop.\n",
        "for i in range (1,11):\n",
        "  print(i)"
      ],
      "metadata": {
        "colab": {
          "base_uri": "https://localhost:8080/"
        },
        "id": "BU1sE5wl_eiF",
        "outputId": "aa632d70-4fbb-4b10-a4bd-a5a055ced376"
      },
      "execution_count": null,
      "outputs": [
        {
          "output_type": "stream",
          "name": "stdout",
          "text": [
            "1\n",
            "2\n",
            "3\n",
            "4\n",
            "5\n",
            "6\n",
            "7\n",
            "8\n",
            "9\n",
            "10\n"
          ]
        }
      ]
    },
    {
      "cell_type": "code",
      "source": [
        "#2.Explain the difference between a for loop and a while loop in Python.\n",
        "\n",
        "# for loop Used for iterating over a sequence (like a list, tuple, string, or range) or other iterable objects. It executes a block of code for each item in the sequence.\n",
        "\n",
        "# while loop Used for repeatedly executing a block of code as long as a given condition is true."
      ],
      "metadata": {
        "id": "ialJ31Lr_3eJ"
      },
      "execution_count": null,
      "outputs": []
    },
    {
      "cell_type": "code",
      "source": [
        "#3.Write a Python program to calculate the sum of all numbers from 1 to 100 using a for loop.\n",
        "\n",
        "for i in range (1,101):\n",
        "  print(i)"
      ],
      "metadata": {
        "colab": {
          "base_uri": "https://localhost:8080/"
        },
        "id": "1lNZkAheBD4a",
        "outputId": "fc17ac95-add2-445d-a4a6-ea3f4b4f22a6"
      },
      "execution_count": null,
      "outputs": [
        {
          "output_type": "stream",
          "name": "stdout",
          "text": [
            "1\n",
            "2\n",
            "3\n",
            "4\n",
            "5\n",
            "6\n",
            "7\n",
            "8\n",
            "9\n",
            "10\n",
            "11\n",
            "12\n",
            "13\n",
            "14\n",
            "15\n",
            "16\n",
            "17\n",
            "18\n",
            "19\n",
            "20\n",
            "21\n",
            "22\n",
            "23\n",
            "24\n",
            "25\n",
            "26\n",
            "27\n",
            "28\n",
            "29\n",
            "30\n",
            "31\n",
            "32\n",
            "33\n",
            "34\n",
            "35\n",
            "36\n",
            "37\n",
            "38\n",
            "39\n",
            "40\n",
            "41\n",
            "42\n",
            "43\n",
            "44\n",
            "45\n",
            "46\n",
            "47\n",
            "48\n",
            "49\n",
            "50\n",
            "51\n",
            "52\n",
            "53\n",
            "54\n",
            "55\n",
            "56\n",
            "57\n",
            "58\n",
            "59\n",
            "60\n",
            "61\n",
            "62\n",
            "63\n",
            "64\n",
            "65\n",
            "66\n",
            "67\n",
            "68\n",
            "69\n",
            "70\n",
            "71\n",
            "72\n",
            "73\n",
            "74\n",
            "75\n",
            "76\n",
            "77\n",
            "78\n",
            "79\n",
            "80\n",
            "81\n",
            "82\n",
            "83\n",
            "84\n",
            "85\n",
            "86\n",
            "87\n",
            "88\n",
            "89\n",
            "90\n",
            "91\n",
            "92\n",
            "93\n",
            "94\n",
            "95\n",
            "96\n",
            "97\n",
            "98\n",
            "99\n",
            "100\n"
          ]
        }
      ]
    },
    {
      "cell_type": "code",
      "source": [
        "#4.How do you iterate through a list using a for loop in Python?\n",
        "l=[1,2,3,4,5,6,7,8,9,10]\n",
        "for i in l:\n",
        "  print(i)"
      ],
      "metadata": {
        "colab": {
          "base_uri": "https://localhost:8080/"
        },
        "id": "pmGFUfX3BSsK",
        "outputId": "dea585c6-00c2-41ba-e86b-cb39e3d297f1"
      },
      "execution_count": null,
      "outputs": [
        {
          "output_type": "stream",
          "name": "stdout",
          "text": [
            "1\n",
            "2\n",
            "3\n",
            "4\n",
            "5\n",
            "6\n",
            "7\n",
            "8\n",
            "9\n",
            "10\n"
          ]
        }
      ]
    },
    {
      "cell_type": "code",
      "source": [
        "#5.Write a Python program to find the product of all elements in a list using a for loop.\n",
        "l=[3,5,7,2]\n",
        "def product(l):\n",
        "  p=1\n",
        "  for i in l:\n",
        "    p=p*i\n",
        "  return p\n",
        "product(l)"
      ],
      "metadata": {
        "colab": {
          "base_uri": "https://localhost:8080/"
        },
        "id": "aT_CJfm6B0Bo",
        "outputId": "0dcef88a-e204-4f26-def5-737246056017"
      },
      "execution_count": null,
      "outputs": [
        {
          "output_type": "execute_result",
          "data": {
            "text/plain": [
              "210"
            ]
          },
          "metadata": {},
          "execution_count": 32
        }
      ]
    },
    {
      "cell_type": "code",
      "source": [
        "#6.Create a Python program that prints all even numbers from 1 to 20 using a for loop.\n",
        "for i in range(1,21):\n",
        "  if i%2==0:\n",
        "    print(i)"
      ],
      "metadata": {
        "colab": {
          "base_uri": "https://localhost:8080/"
        },
        "id": "-_yi10aladUE",
        "outputId": "ce6d30bc-bc60-4e58-cdf6-717d066b7623"
      },
      "execution_count": null,
      "outputs": [
        {
          "output_type": "stream",
          "name": "stdout",
          "text": [
            "2\n",
            "4\n",
            "6\n",
            "8\n",
            "10\n",
            "12\n",
            "14\n",
            "16\n",
            "18\n",
            "20\n"
          ]
        }
      ]
    },
    {
      "cell_type": "code",
      "source": [
        "#7.Write a Python program that calculates the factorial of a number using a for loop.\n",
        "n=int(input(\" enter anumber \"))\n",
        "factorial = 1\n",
        "if n == 0:\n",
        "  print(1)\n",
        "else:\n",
        "  for i in range(1,n+1):\n",
        "    factorial = factorial * i\n",
        "  print(factorial)"
      ],
      "metadata": {
        "colab": {
          "base_uri": "https://localhost:8080/"
        },
        "id": "Sl5xK7a3bROw",
        "outputId": "734a158b-6972-4503-806e-81cbbcf420fd"
      },
      "execution_count": null,
      "outputs": [
        {
          "output_type": "stream",
          "name": "stdout",
          "text": [
            " enter anumber 5\n",
            "120\n"
          ]
        }
      ]
    },
    {
      "cell_type": "code",
      "source": [
        "#8.How can you iterate through the characters of a string using a for loop in Python?\n",
        "\n",
        "l=[1,2,3,4,5,6,7,8,9]\n",
        "l1=[]\n",
        "for i in l:\n",
        "  l1.append(i+2)\n",
        "print(l1)"
      ],
      "metadata": {
        "colab": {
          "base_uri": "https://localhost:8080/"
        },
        "id": "G8VACjJNcGqk",
        "outputId": "9d7e3de0-b08a-4d91-db09-c27066f0f3ea"
      },
      "execution_count": null,
      "outputs": [
        {
          "output_type": "stream",
          "name": "stdout",
          "text": [
            "[3, 4, 5, 6, 7, 8, 9, 10, 11]\n"
          ]
        }
      ]
    },
    {
      "cell_type": "code",
      "source": [
        "#9.Write a Python program to find the largest number in a list using a for loop.\n",
        "l=[1,2,3,4,5,6,7,8,9,10]\n",
        "count=0\n",
        "for i in l:\n",
        "  count=max(l)\n",
        "print(count)"
      ],
      "metadata": {
        "colab": {
          "base_uri": "https://localhost:8080/"
        },
        "id": "TgjxT9bIg-6m",
        "outputId": "e0922be9-8501-42fe-dcee-71590a51c020"
      },
      "execution_count": null,
      "outputs": [
        {
          "output_type": "stream",
          "name": "stdout",
          "text": [
            "10\n"
          ]
        }
      ]
    },
    {
      "cell_type": "code",
      "source": [
        "#10.Create a Python program that prints the Fibonacci sequence up to a specified limit using a for loop.\n",
        "def fib(n):\n",
        "  a,b=0,1\n",
        "  for i in range(n):\n",
        "    yield a\n",
        "    a,b=b,a+b\n",
        "for i in fib(10):\n",
        "  print(i)"
      ],
      "metadata": {
        "colab": {
          "base_uri": "https://localhost:8080/"
        },
        "id": "DbywbOzYoQT5",
        "outputId": "6665c7f6-94b4-4198-b5d9-2ee66f676f4d"
      },
      "execution_count": null,
      "outputs": [
        {
          "output_type": "stream",
          "name": "stdout",
          "text": [
            "0\n",
            "1\n",
            "1\n",
            "2\n",
            "3\n",
            "5\n",
            "8\n",
            "13\n",
            "21\n",
            "34\n"
          ]
        }
      ]
    },
    {
      "cell_type": "code",
      "source": [
        "#11.Write a Python program to count the number of vowels in a given string using a for loop.\n",
        "str=input(\"enter a string \")\n",
        "count=0\n",
        "for j in str:\n",
        "  if j=='a' or j=='e' or j=='i' or j=='o' or j=='u'or j=='A' or j=='E' or j=='I' or j=='O' or j=='U':\n",
        "    count=count+1\n",
        "print(count)"
      ],
      "metadata": {
        "colab": {
          "base_uri": "https://localhost:8080/"
        },
        "id": "yVWco3RFqwNf",
        "outputId": "488ce75e-3b2c-4ab9-89ee-34e3e17223ba"
      },
      "execution_count": null,
      "outputs": [
        {
          "output_type": "stream",
          "name": "stdout",
          "text": [
            "enter a string noida Is my HOME town\n",
            "7\n"
          ]
        }
      ]
    },
    {
      "cell_type": "code",
      "source": [
        "#12.Create a Python program that generates a multiplication table for a given number using a for loop.\n",
        "n=int(input(\"enter a number\"))\n",
        "for i in range(1,11):\n",
        "  if n!=0:\n",
        "    print(n,\"*\",i,\"=\",n*i)\n"
      ],
      "metadata": {
        "colab": {
          "base_uri": "https://localhost:8080/"
        },
        "id": "majirlz6sRIA",
        "outputId": "09615282-e799-4ee4-89e7-d845975a2308"
      },
      "execution_count": null,
      "outputs": [
        {
          "output_type": "stream",
          "name": "stdout",
          "text": [
            "enter a number7\n",
            "7 * 1 = 7\n",
            "7 * 2 = 14\n",
            "7 * 3 = 21\n",
            "7 * 4 = 28\n",
            "7 * 5 = 35\n",
            "7 * 6 = 42\n",
            "7 * 7 = 49\n",
            "7 * 8 = 56\n",
            "7 * 9 = 63\n",
            "7 * 10 = 70\n"
          ]
        }
      ]
    },
    {
      "cell_type": "code",
      "source": [
        "#13.Write a Python program to reverse a list using a for loop.\n",
        "l=[1,2,3,4,5,6,7,8,9,10]\n",
        "l1=[]\n",
        "for i in l:\n",
        "  l.append(i)\n",
        "  l1.reverse()\n",
        "print(l1)\n"
      ],
      "metadata": {
        "id": "2L4nhv6ewJ54"
      },
      "execution_count": null,
      "outputs": []
    },
    {
      "cell_type": "code",
      "source": [
        "#14.Write a Python program to find the common elements between two lists using a for loop.\n",
        "l=[1,2,3,4,5,6,7,8,9,10]\n",
        "l1=[6,7,8,9,10,11,12,13,14,15]\n",
        "l2=[]\n",
        "for i in l:\n",
        "  for j in l1:\n",
        "    if i==j:\n",
        "      l2.append(i)\n",
        "print(l2)"
      ],
      "metadata": {
        "id": "UixgsyR0zdiI",
        "colab": {
          "base_uri": "https://localhost:8080/"
        },
        "outputId": "d1d58d4c-36c7-4ee3-f760-25986606d586"
      },
      "execution_count": null,
      "outputs": [
        {
          "output_type": "stream",
          "name": "stdout",
          "text": [
            "[6, 7, 8, 9, 10]\n"
          ]
        }
      ]
    },
    {
      "cell_type": "code",
      "source": [
        "#15.Explain how to use a for loop to iterate through the keys and values of a dictionary in Python\n",
        "d={'name':'sumit','city':'noida','age':'30','mobile':'1234567890'}\n",
        "for i in d.items():\n",
        "  print(i)"
      ],
      "metadata": {
        "colab": {
          "base_uri": "https://localhost:8080/"
        },
        "id": "iamD9_j1Xnd8",
        "outputId": "ae6b95e4-a992-4dc5-cf7a-33a05fedf634"
      },
      "execution_count": null,
      "outputs": [
        {
          "output_type": "stream",
          "name": "stdout",
          "text": [
            "('name', 'sumit')\n",
            "('city', 'noida')\n",
            "('age', '30')\n",
            "('mobile', '1234567890')\n"
          ]
        }
      ]
    },
    {
      "cell_type": "code",
      "source": [
        "#16.Write a Python program to find the GCD (Greatest Common Divisor) of two numbers using a for loop.\n",
        "n1=int(input(\"enter a number\"))\n",
        "n2=int(input(\"enter a number\"))\n",
        "for i in range(1,n1+1):\n",
        "  if n1%i==0 and n2%i==0:\n",
        "    gcd=i\n",
        "print(gcd)"
      ],
      "metadata": {
        "colab": {
          "base_uri": "https://localhost:8080/"
        },
        "id": "lOeFKXiyaUGU",
        "outputId": "5bd6aed6-7a44-4c74-ffe8-909c2e9358c2"
      },
      "execution_count": null,
      "outputs": [
        {
          "output_type": "stream",
          "name": "stdout",
          "text": [
            "enter a number51\n",
            "enter a number204\n",
            "51\n"
          ]
        }
      ]
    },
    {
      "cell_type": "code",
      "source": [
        "#17.Create a Python program that checks if a string is a palindrome using a for loop.\n",
        "s=input(\" enter a string \")\n",
        "for i in s:\n",
        "  if s==s[::-1]:\n",
        "    print(\"palindrome\")\n",
        "  else:\n",
        "    print(\"not palindrome\")"
      ],
      "metadata": {
        "colab": {
          "base_uri": "https://localhost:8080/"
        },
        "id": "f2jAEf_7eAKu",
        "outputId": "58085ad7-bacc-4eff-d29d-9f9e554555cc"
      },
      "execution_count": null,
      "outputs": [
        {
          "output_type": "stream",
          "name": "stdout",
          "text": [
            " enter a string madam\n",
            "palindrome\n",
            "palindrome\n",
            "palindrome\n",
            "palindrome\n",
            "palindrome\n"
          ]
        }
      ]
    },
    {
      "cell_type": "code",
      "source": [
        "#18.Write a Python program to remove duplicates from a list using a for loop.\n",
        "l=[1,1,2,2,3,3,4,5,6,7,8,9,10]\n",
        "result=[]\n",
        "for i in l:\n",
        "  if i not in result:\n",
        "    result.append(i)\n",
        "print(result)"
      ],
      "metadata": {
        "colab": {
          "base_uri": "https://localhost:8080/"
        },
        "id": "4BOyCG3Njpcf",
        "outputId": "36a0b521-cce4-44cd-9e17-0846b42e6a57"
      },
      "execution_count": null,
      "outputs": [
        {
          "output_type": "stream",
          "name": "stdout",
          "text": [
            "[1, 2, 3, 4, 5, 6, 7, 8, 9, 10]\n"
          ]
        }
      ]
    },
    {
      "cell_type": "code",
      "source": [
        "#19.Create a Python program that counts the number of words in a sentence using a for loop.\n",
        "s1=input(\"enter a sentence \")\n",
        "count=0\n",
        "for i in s1:\n",
        "  count+=1\n",
        "print(count)\n"
      ],
      "metadata": {
        "colab": {
          "base_uri": "https://localhost:8080/"
        },
        "id": "7xxXri5YmzlI",
        "outputId": "779180b7-b90c-43ed-ad27-d4362b2f4862"
      },
      "execution_count": null,
      "outputs": [
        {
          "output_type": "stream",
          "name": "stdout",
          "text": [
            "enter a sentence I LOVE MY INDIA\n",
            "15\n"
          ]
        }
      ]
    },
    {
      "cell_type": "code",
      "source": [
        "#20.Write a Python program to find the sum of all odd numbers from 1 to 50 using a for loop.\n",
        "for i in range(1,51):\n",
        "  if i%2!=0:\n",
        "    print(i)"
      ],
      "metadata": {
        "colab": {
          "base_uri": "https://localhost:8080/"
        },
        "id": "4DOGCpIPqtjD",
        "outputId": "d94fbca0-54ea-4a80-8a75-b2eba4a4d752"
      },
      "execution_count": null,
      "outputs": [
        {
          "output_type": "stream",
          "name": "stdout",
          "text": [
            "1\n",
            "3\n",
            "5\n",
            "7\n",
            "9\n",
            "11\n",
            "13\n",
            "15\n",
            "17\n",
            "19\n",
            "21\n",
            "23\n",
            "25\n",
            "27\n",
            "29\n",
            "31\n",
            "33\n",
            "35\n",
            "37\n",
            "39\n",
            "41\n",
            "43\n",
            "45\n",
            "47\n",
            "49\n"
          ]
        }
      ]
    },
    {
      "cell_type": "code",
      "source": [
        "#21.Write a Python program that checks if a given year is a leap year using a for loop.\n",
        "year=int(input(\"enter a year\"))\n",
        "if (year % 4 == 0 and year % 100 != 0) or (year % 400 == 0):\n",
        "    print(\"leap year\")\n",
        "else:\n",
        "    print(\"not leap year\")"
      ],
      "metadata": {
        "colab": {
          "base_uri": "https://localhost:8080/"
        },
        "id": "CnCWiRT31syx",
        "outputId": "2af5ebf6-6dbc-4d65-9e45-033e615dca8a"
      },
      "execution_count": null,
      "outputs": [
        {
          "output_type": "stream",
          "name": "stdout",
          "text": [
            "enter a year2020\n",
            "leap year\n"
          ]
        }
      ]
    },
    {
      "cell_type": "code",
      "source": [
        "#22.Create a Python program that calculates the square root of a number using a for loop.\n",
        "n=(input(\"enter a number\"))\n",
        "for i in n:\n",
        "  print(int(i)**0.5)"
      ],
      "metadata": {
        "colab": {
          "base_uri": "https://localhost:8080/"
        },
        "id": "RjRYg-hoApIa",
        "outputId": "9818d115-aa9b-4ebf-9932-d7b6df697876"
      },
      "execution_count": null,
      "outputs": [
        {
          "output_type": "stream",
          "name": "stdout",
          "text": [
            "enter a number2\n",
            "1.4142135623730951\n"
          ]
        }
      ]
    },
    {
      "cell_type": "code",
      "source": [
        " #23.Write a Python program to find the LCM (Least Common Multiple) of two numbers using a for loop\n",
        " n1=int(input(\"enter a first number\"))\n",
        " n2=int(input(\"enter a second number\"))\n",
        "\n",
        " for i in range(max(n1, n2),1 + (n1 * n2), max(n1, n2)):\n",
        "    if i % n1 == i % n2 == 0:\n",
        "        lcm = i\n",
        "        break\n",
        "print(lcm)\n"
      ],
      "metadata": {
        "colab": {
          "base_uri": "https://localhost:8080/"
        },
        "id": "Fx9ReliJHSjA",
        "outputId": "4dbcf943-840d-4247-8913-950ff7f6c71d"
      },
      "execution_count": null,
      "outputs": [
        {
          "output_type": "stream",
          "name": "stdout",
          "text": [
            "enter a first number5\n",
            "enter a second number6\n",
            "30\n"
          ]
        }
      ]
    },
    {
      "cell_type": "markdown",
      "source": [
        "If else :\n"
      ],
      "metadata": {
        "id": "Qr8KMARbSlfl"
      }
    },
    {
      "cell_type": "code",
      "source": [
        "#1.Write a Python program to check if a number is positive, negative, or zero using an if-else statement.\n",
        "n=int(input(\"enter a number\"))\n",
        "if n>0:\n",
        "  print(\"positive\")\n",
        "elif n<0:\n",
        "  print(\"negative\")\n",
        "else:\n",
        "  print(\"zero\")"
      ],
      "metadata": {
        "colab": {
          "base_uri": "https://localhost:8080/"
        },
        "id": "3DYyv_QxSmh3",
        "outputId": "fbfb7b86-e0fd-44e0-ae21-43b9c7d5776d"
      },
      "execution_count": null,
      "outputs": [
        {
          "output_type": "stream",
          "name": "stdout",
          "text": [
            "enter a number34\n",
            "positive\n"
          ]
        }
      ]
    },
    {
      "cell_type": "code",
      "source": [
        "#2.Create a Python program that checks if a given number is even or odd using an if-else statement.\n",
        "n=int(input(\"enter a number\"))\n",
        "if n%2==0:\n",
        "  print(n,\"is even number\")\n",
        "else:\n",
        "  print(n,\"is odd number\")"
      ],
      "metadata": {
        "colab": {
          "base_uri": "https://localhost:8080/"
        },
        "id": "RdyGywkPSwXl",
        "outputId": "f41fb311-e5b5-421b-dde8-5ade61199d1d"
      },
      "execution_count": null,
      "outputs": [
        {
          "output_type": "stream",
          "name": "stdout",
          "text": [
            "enter a number7\n",
            "7 is odd number\n"
          ]
        }
      ]
    },
    {
      "cell_type": "code",
      "source": [
        "#3.Create a Python program that checks if a given number is even or odd using an if-else statement.\n",
        "year=int(input(\"enter a year\"))\n",
        "if (year % 4 == 0 and year % 100 != 0) or (year % 400 == 0):\n",
        "    print(year,\"is leap year\")\n",
        "else:\n",
        "    print(year,\"is not leap year\")"
      ],
      "metadata": {
        "colab": {
          "base_uri": "https://localhost:8080/"
        },
        "id": "xyJ4vBCPTTMl",
        "outputId": "8a66da60-4ed3-486c-c30f-5064cb755e4e"
      },
      "execution_count": null,
      "outputs": [
        {
          "output_type": "stream",
          "name": "stdout",
          "text": [
            "enter a year2020\n",
            "2020 is leap year\n"
          ]
        }
      ]
    },
    {
      "cell_type": "code",
      "source": [
        "#4.Write a Python program to determine the largest of three numbers using if-else.\n",
        "n1=int(input(\"enter a first number\"))\n",
        "n2=int(input(\"enter a second number\"))\n",
        "n3=int(input(\"enter a third number\"))\n",
        "if n1>n2 and n1>n3:\n",
        "  print(n1,\"is largest number\")\n",
        "elif n2>n3:\n",
        "  print(n2,\"is largest number\")\n",
        "else:\n",
        "  print(n3,\"is largest number\")"
      ],
      "metadata": {
        "colab": {
          "base_uri": "https://localhost:8080/"
        },
        "id": "wGRlfbClX5pE",
        "outputId": "571afd7e-7ff1-47ca-9e63-8698d98875d5"
      },
      "execution_count": null,
      "outputs": [
        {
          "output_type": "stream",
          "name": "stdout",
          "text": [
            "enter a first number234678\n",
            "enter a second number23467\n",
            "enter a third number239875\n",
            "239875 is largest number\n"
          ]
        }
      ]
    },
    {
      "cell_type": "code",
      "source": [
        "#5.Write a Python program that calculates the absolute value of a number using if-else.\n",
        "n=float(input(\"enter a  number\"))\n",
        "if n>0:\n",
        "  print(n,\"is positive number\")\n",
        "elif  n<0:\n",
        "  print(n,\"is negative number\")\n",
        "else:\n",
        "    print(n,\" is zero\")\n"
      ],
      "metadata": {
        "colab": {
          "base_uri": "https://localhost:8080/"
        },
        "id": "9v8H9oFWUr6v",
        "outputId": "df48e845-13ea-406e-a8d9-a04a99161e38"
      },
      "execution_count": null,
      "outputs": [
        {
          "output_type": "stream",
          "name": "stdout",
          "text": [
            "enter a  number6.9874\n",
            "6.9874 is positive number\n"
          ]
        }
      ]
    },
    {
      "cell_type": "code",
      "source": [
        "#6.Create a Python program that checks if a given character is a vowel or consonant using if-else.\n",
        "s1=input(\" enter a character \")\n",
        "if s=='a' or s=='e' or s=='i' or s=='o' or s=='u'or s=='A' or s=='E' or s=='I' or s=='O' or s=='U':\n",
        "  print(s1,\"is vowel\")\n",
        "else:\n",
        "  print(s1,\"is consonant\")"
      ],
      "metadata": {
        "colab": {
          "base_uri": "https://localhost:8080/"
        },
        "id": "O1sAPtHeWFnP",
        "outputId": "8eb417db-fef5-4673-e2bb-09f8ab291fce"
      },
      "execution_count": null,
      "outputs": [
        {
          "output_type": "stream",
          "name": "stdout",
          "text": [
            " enter a character H\n",
            "H is consonant\n"
          ]
        }
      ]
    },
    {
      "cell_type": "code",
      "source": [
        "#7.Write a Python program to determine if a user is eligible to vote based on their age using if-else.\n",
        "\n",
        "age=int(input(\"enter a age\"))\n",
        "if age>=18:\n",
        "  print(\"eligible to vote\")\n",
        "else:\n",
        "  print(\"not eligible to vote\")"
      ],
      "metadata": {
        "colab": {
          "base_uri": "https://localhost:8080/"
        },
        "id": "LjwI1bHJfvEL",
        "outputId": "977e813a-ce9e-4d8d-8e10-246404d0c426"
      },
      "execution_count": null,
      "outputs": [
        {
          "output_type": "stream",
          "name": "stdout",
          "text": [
            "enter a age6\n",
            "not eligible to vote\n"
          ]
        }
      ]
    },
    {
      "cell_type": "code",
      "source": [
        "#8.Create a Python program that calculates the discount amount based on the purchase amount using if-else.\n",
        "purchase_amount = float(input(\"Enter the purchase amount: \"))\n",
        "\n",
        "discount_rate = 0.0  # Default discount rate\n",
        "\n",
        "if purchase_amount >= 100:\n",
        "    discount_rate = 0.1  # 10% discount for purchases of $100 or more\n",
        "    discount_amount = purchase_amount * discount_rate\n",
        "    total_amount = purchase_amount - discount_amount\n",
        "    print(f\"Discount amount: ${discount_amount:.2f}\")\n",
        "    print(f\"Total amount after discount: ${total_amount:.2f}\")"
      ],
      "metadata": {
        "colab": {
          "base_uri": "https://localhost:8080/"
        },
        "id": "1iQ4-VcygTfK",
        "outputId": "6c3c8518-d39e-4373-8d66-05f658f0db2c"
      },
      "execution_count": null,
      "outputs": [
        {
          "output_type": "stream",
          "name": "stdout",
          "text": [
            "Enter the purchase amount: 770\n",
            "Discount amount: $77.00\n",
            "Total amount after discount: $693.00\n"
          ]
        }
      ]
    },
    {
      "cell_type": "code",
      "source": [
        "#9.Write a Python program to check if a number is within a specified range using if-else.\n",
        "n=float(input(\"enter a number\"))\n",
        "if 500<=n<=750:\n",
        "  print(n,\"is within the range\")\n",
        "else:\n",
        "  print(n,\"is not within the range\")"
      ],
      "metadata": {
        "colab": {
          "base_uri": "https://localhost:8080/"
        },
        "id": "NpAva9gNguoI",
        "outputId": "bd7dd130-a945-429d-fe32-be4e56871ea2"
      },
      "execution_count": null,
      "outputs": [
        {
          "output_type": "stream",
          "name": "stdout",
          "text": [
            "enter a number890\n",
            "890.0 is not within the range\n"
          ]
        }
      ]
    },
    {
      "cell_type": "code",
      "source": [
        "#10.Create a Python program that determines the grade of a student based on their score using if-else.\n",
        "sore=float(input(\"enter a  number\"))\n",
        "if 90<sore<=100:\n",
        "  print(\"student grade is A\")\n",
        "elif 80<sore<=90:\n",
        "  print(\"student grade is B\")\n",
        "elif 70<sore<=80:\n",
        "  print(\"student grade is C\")\n"
      ],
      "metadata": {
        "colab": {
          "base_uri": "https://localhost:8080/"
        },
        "id": "_-Se1Cxhhl3F",
        "outputId": "95d29b4f-0bde-42bd-cf08-724856b00f8d"
      },
      "execution_count": null,
      "outputs": [
        {
          "output_type": "stream",
          "name": "stdout",
          "text": [
            "enter a  number78\n",
            "student grade is C\n"
          ]
        }
      ]
    },
    {
      "cell_type": "code",
      "source": [
        "#11.Write a Python program to check if a string is empty or not using if-else.\n",
        "s=input(\" enter a string \")\n",
        "if s==\"\":\n",
        "  print(\"string is empty\")\n",
        "else:\n",
        "  print(\"string is not empty\")\n"
      ],
      "metadata": {
        "colab": {
          "base_uri": "https://localhost:8080/"
        },
        "id": "Rke348UXio1Z",
        "outputId": "87b5f292-dc26-4f78-9767-b98a53d0221b"
      },
      "execution_count": null,
      "outputs": [
        {
          "output_type": "stream",
          "name": "stdout",
          "text": [
            " enter a string dgwy\n",
            "string is not empty\n"
          ]
        }
      ]
    },
    {
      "cell_type": "code",
      "source": [
        "#12.Create a Python program that identifies the type of a triangle (e.g., equilateral, isosceles, or scalene) based on input values using if-else.\n",
        "angle=float(input(\"enter a angle\"))\n",
        "if angle==90:\n",
        "  print(\"right angle triangle\")\n",
        "elif angle<90:\n",
        "  print(\"acute angle triangle\")\n",
        "else:\n",
        "  print(\"obtuse angle triangle\")"
      ],
      "metadata": {
        "id": "6TiS-u13i95k",
        "colab": {
          "base_uri": "https://localhost:8080/"
        },
        "outputId": "3390456d-9e16-4e8a-e66f-f87971bb649a"
      },
      "execution_count": 3,
      "outputs": [
        {
          "output_type": "stream",
          "name": "stdout",
          "text": [
            "enter a angle89.99735\n",
            "acute angle triangle\n"
          ]
        }
      ]
    },
    {
      "cell_type": "code",
      "source": [
        "#13.Write a Python program to determine the day of the week based on a user-provided number using if-else.\n",
        "day=int(input(\"enter a number\"))\n",
        "if day==1:\n",
        "  print(\"  Monday \")\n",
        "elif day==2:\n",
        "  print(\" Tuesday \")\n",
        "elif day==3:\n",
        "  print(\" Wednesday \")\n",
        "elif day==4:\n",
        "  print(\" Trusday \")\n",
        "elif day==5:\n",
        "  print(\" Friday \")\n",
        "elif day==6:\n",
        "  print(\" Saturday \")\n",
        "elif day==7:\n",
        "  print(\" Sunday \")\n",
        "else:\n",
        "  print(\"invalid number\")"
      ],
      "metadata": {
        "colab": {
          "base_uri": "https://localhost:8080/"
        },
        "id": "zV04b3ph4gMK",
        "outputId": "d4f05f9b-fd7a-45da-b43b-5b78f0ebd1ef"
      },
      "execution_count": 6,
      "outputs": [
        {
          "output_type": "stream",
          "name": "stdout",
          "text": [
            "enter a number2\n",
            " Tuesday \n"
          ]
        }
      ]
    },
    {
      "cell_type": "code",
      "source": [
        "#14.Create a Python program that checks if a given year is a leap year using both if-else and a function.\n",
        "y=int(input(\"enter a year\"))\n",
        "if y%4==0 and y%400==0:\n",
        "  print(y ,\" is leap year\")\n",
        "else:\n",
        "  print(y,\"is not leap year\")"
      ],
      "metadata": {
        "colab": {
          "base_uri": "https://localhost:8080/"
        },
        "id": "1CLu8gJT42v5",
        "outputId": "f6fba6b3-3bec-42c5-812b-3d22da87082f"
      },
      "execution_count": 9,
      "outputs": [
        {
          "output_type": "stream",
          "name": "stdout",
          "text": [
            "enter a year2000\n",
            "2000  is leap year\n"
          ]
        }
      ]
    },
    {
      "cell_type": "code",
      "source": [
        "15.How do you use the \"assert\" statement in Python to add debugging checks within if-else blocks?\n",
        "def calculate_discount(purchase_amount):\n",
        "  if purchase_amount >= 100:\n",
        "    discount = 0.1  # 10% discount\n",
        "    assert discount > 0, \"Discount should be positive\"  # Check if discount is positive\n",
        "  else:\n",
        "    discount = 0\n",
        "    assert discount == 0, \"Discount should be zero\"  # Check if discount is zero\n",
        "  return discount\n",
        "discount = calculate_discount(150)\n",
        "print(\"Discount:\", discount)"
      ],
      "metadata": {
        "colab": {
          "base_uri": "https://localhost:8080/"
        },
        "id": "p756xBhr5v57",
        "outputId": "a98df013-3957-4e9e-93b7-276682feba12"
      },
      "execution_count": 13,
      "outputs": [
        {
          "output_type": "stream",
          "name": "stdout",
          "text": [
            "Object `blocks` not found.\n",
            "Discount: 0.1\n"
          ]
        }
      ]
    },
    {
      "cell_type": "code",
      "source": [
        "#16.Create a Python program that determines the eligibility of a person for a senior citizen discount based on age using if-else.\n",
        "age=int(input(\"enter a age\"))\n",
        "if age>=60:\n",
        "  print(\"eligible for senior citizen discount\")\n",
        "else:\n",
        "  print(\"not eligible for senior citizen discount\")"
      ],
      "metadata": {
        "colab": {
          "base_uri": "https://localhost:8080/"
        },
        "id": "EPzJTyQ56ckL",
        "outputId": "68c89b85-b43f-46b8-c2cf-10d1128ba924"
      },
      "execution_count": 15,
      "outputs": [
        {
          "output_type": "stream",
          "name": "stdout",
          "text": [
            "enter a age67\n",
            "eligible for senior citizen discount\n"
          ]
        }
      ]
    },
    {
      "cell_type": "code",
      "source": [
        "#17.Write a Python program to categorize a given character as uppercase, lowercase, or neither using if-else.\n",
        "s=input(\"enter a character\")\n",
        "if s.isupper():\n",
        "  print(s,\"is uppercase\")\n",
        "elif s.islower():\n",
        "  print(s,\"is lowercase\")\n",
        "else:\n",
        "  print(s,\"is neither uppercase nor lowercase\")"
      ],
      "metadata": {
        "colab": {
          "base_uri": "https://localhost:8080/"
        },
        "id": "teYmTLCw7Hsq",
        "outputId": "c942dd79-0c5c-4bf4-efd8-76978d613fd7"
      },
      "execution_count": 16,
      "outputs": [
        {
          "output_type": "stream",
          "name": "stdout",
          "text": [
            "enter a characterindia\n",
            "india is lowercase\n"
          ]
        }
      ]
    },
    {
      "cell_type": "code",
      "source": [
        "#18.Write a Python program to determine the roots of a quadratic equation using if-else.\n",
        "\n",
        "import cmath\n",
        "\n",
        "# Get the coefficients from the user\n",
        "a = float(input(\"Enter the coefficient of x^2: \"))\n",
        "b = float(input(\"Enter the coefficient of x: \"))\n",
        "c = float(input(\"Enter the constant term: \"))\n",
        "\n",
        "# Calculate the discriminant\n",
        "discriminant = (b**2) - 4*(a*c)\n",
        "\n",
        "# Check the discriminant to determine the nature of the roots\n",
        "if discriminant > 0:\n",
        "    # Two distinct real roots\n",
        "    root1 = (-b + discriminant**0.5) / (2*a)\n",
        "    root2 = (-b - discriminant**0.5) / (2*a)\n",
        "    print(\"The roots are real and distinct:\")\n",
        "    print(\"Root 1:\", root1)\n",
        "    print(\"Root 2:\", root2)\n",
        "elif discriminant == 0:\n",
        "    # One real root (repeated)\n",
        "    root = -b / (2*a)\n",
        "    print(\"The root is real and repeated:\")\n",
        "    print(\"Root:\", root)\n",
        "else:\n",
        "    # Two complex roots\n",
        "    root1 = (-b + cmath.sqrt(discriminant)) / (2*a)\n",
        "    root2 = (-b - cmath.sqrt(discriminant)) / (2*a)\n",
        "    print(\"The roots are complex:\")\n",
        "    print(\"Root 1:\", root1)\n",
        "    print(\"Root 2:\", root2)"
      ],
      "metadata": {
        "colab": {
          "base_uri": "https://localhost:8080/"
        },
        "id": "IK649gWJ7kkv",
        "outputId": "333d2fbc-5e89-463b-d191-2983fa18d532"
      },
      "execution_count": 19,
      "outputs": [
        {
          "output_type": "stream",
          "name": "stdout",
          "text": [
            "Enter the coefficient of x^2: 1\n",
            "Enter the coefficient of x: 6\n",
            "Enter the constant term: 12\n",
            "The roots are complex:\n",
            "Root 1: (-3+1.7320508075688772j)\n",
            "Root 2: (-3-1.7320508075688772j)\n"
          ]
        }
      ]
    },
    {
      "cell_type": "code",
      "source": [
        "#19.Create a Python program that checks if a given year is a century year or not using if-else.\n",
        "year=int(input(\"enter a year\"))\n",
        "if year%100==0:\n",
        "  print(year,\"is a century year\")\n",
        "else:\n",
        "  print(year,\"is not a century year\")\n",
        ""
      ],
      "metadata": {
        "colab": {
          "base_uri": "https://localhost:8080/"
        },
        "id": "sY8tQcIy8ESc",
        "outputId": "af13cd43-eac5-4ec0-a128-7a4d04e55108"
      },
      "execution_count": 21,
      "outputs": [
        {
          "output_type": "stream",
          "name": "stdout",
          "text": [
            "enter a year2000\n",
            "2000 is a century year\n"
          ]
        }
      ]
    },
    {
      "cell_type": "code",
      "source": [
        "#20.Write a Python program to determine if a given number is a perfect square using if-else.\n",
        "n=int(input(\"enter a number\"))\n",
        "if n**0.5==int(n**0.5):\n",
        "  print(n,\"is a perfect square\")\n",
        "else:\n",
        "  print(n,\"is not a perfect square\")"
      ],
      "metadata": {
        "colab": {
          "base_uri": "https://localhost:8080/"
        },
        "id": "E5TPwSh2-Hx1",
        "outputId": "0c50f8e7-e235-4b19-fae8-fedd8f63c2d0"
      },
      "execution_count": 23,
      "outputs": [
        {
          "output_type": "stream",
          "name": "stdout",
          "text": [
            "enter a number10\n",
            "10 is not a perfect square\n"
          ]
        }
      ]
    },
    {
      "cell_type": "code",
      "source": [
        "#21.Explain the purpose of the \"continue\" and \"break\" statements within if-else loops.\n",
        "for i in range(1, 6):\n",
        "    if i == 4:\n",
        "        continue  # Skip the iteration when i is 3\n",
        "    print(i)\n",
        "\n",
        "#The continue statement is used to skip the remaining code within the current iteration of a loop and move to the next iteration."
      ],
      "metadata": {
        "colab": {
          "base_uri": "https://localhost:8080/"
        },
        "id": "mEY-1pEa_O9H",
        "outputId": "4e859f21-67ea-44fe-c8b8-e2d636856876"
      },
      "execution_count": 32,
      "outputs": [
        {
          "output_type": "stream",
          "name": "stdout",
          "text": [
            "1\n",
            "2\n",
            "3\n",
            "5\n"
          ]
        }
      ]
    },
    {
      "cell_type": "code",
      "source": [
        "#The break statement is used to terminate the entire loop prematurely.\n",
        "for i in range(1, 6):\n",
        "    if i == 5:\n",
        "        break  # Exit the loop when i is 3\n",
        "    print(i)"
      ],
      "metadata": {
        "colab": {
          "base_uri": "https://localhost:8080/"
        },
        "id": "qPiwFW2-CZXN",
        "outputId": "a91c18e8-0c63-44a3-a33c-7df603cfc745"
      },
      "execution_count": 31,
      "outputs": [
        {
          "output_type": "stream",
          "name": "stdout",
          "text": [
            "1\n",
            "2\n",
            "3\n",
            "4\n"
          ]
        }
      ]
    },
    {
      "cell_type": "code",
      "source": [
        "#22.Create a Python program that calculates the BMI (Body Mass Index) of a person based on their weight and height using if-else.\n",
        "# BMI = kg/m2\n",
        "#weight in kg\n",
        "#hight in meter\n",
        "\n",
        "\n",
        "weight=float(input(\"enter a weight\"))\n",
        "height=float(input(\"enter a height\"))\n",
        "bmi=weight/height**2\n",
        "if bmi<18.5:\n",
        "  print(\"underweight\")\n",
        "elif 18.5<=bmi<=24.9:\n",
        "  print(\"normal weight\")\n",
        "elif 25<=bmi<=29.9:\n",
        "  print(\"overweight\")\n",
        "else:\n",
        "  print(\"you are in extra over weight\")"
      ],
      "metadata": {
        "colab": {
          "base_uri": "https://localhost:8080/"
        },
        "id": "GmP0BopkCqop",
        "outputId": "e232a457-1db3-4d6f-ae00-2f46da9d4712"
      },
      "execution_count": 35,
      "outputs": [
        {
          "output_type": "stream",
          "name": "stdout",
          "text": [
            "enter a weight85\n",
            "enter a height1.69\n",
            "overweight\n"
          ]
        }
      ]
    },
    {
      "cell_type": "code",
      "source": [
        "#23.How can you use the \"filter()\" function with if-else statements to filter elements from a list?\n",
        "\n",
        "#A function that returns True or False for each element in the list. This is your filtering condition using if-else.\n",
        "def is_even(number):\n",
        "  if number % 2 == 0:\n",
        "    return True\n",
        "  else:\n",
        "    return False\n"
      ],
      "metadata": {
        "id": "Y4dbU3VKF5DN"
      },
      "execution_count": 41,
      "outputs": []
    },
    {
      "cell_type": "code",
      "source": [
        "is_even(14)"
      ],
      "metadata": {
        "colab": {
          "base_uri": "https://localhost:8080/"
        },
        "id": "FEB_pS9UHVjE",
        "outputId": "0528e3f8-ff4d-4f38-df48-93c9b2db780e"
      },
      "execution_count": 42,
      "outputs": [
        {
          "output_type": "execute_result",
          "data": {
            "text/plain": [
              "True"
            ]
          },
          "metadata": {},
          "execution_count": 42
        }
      ]
    },
    {
      "cell_type": "code",
      "source": [
        "#24.Write a Python program to determine if a given number is prime or not using if-else.\n",
        "\n",
        "#numbers that have only 2 factors: 1 and themselves\n",
        "n= int(input(\"enter a number\"))\n",
        "if n%1==0 :\n",
        "  print(n,\"is prime number\")\n",
        "elif n%n==0:\n",
        "    print(n,\"is prime number\")\n",
        "else:\n",
        "  print(n,\"is not prime number\")"
      ],
      "metadata": {
        "colab": {
          "base_uri": "https://localhost:8080/"
        },
        "id": "_TwvjZVEH5OO",
        "outputId": "6558a4b8-7ec8-4f84-bf8c-7b8bd5721547"
      },
      "execution_count": 57,
      "outputs": [
        {
          "output_type": "stream",
          "name": "stdout",
          "text": [
            "enter a number7\n",
            "7 is prime number\n"
          ]
        }
      ]
    },
    {
      "cell_type": "code",
      "source": [],
      "metadata": {
        "id": "TQQTuXklJNKb"
      },
      "execution_count": null,
      "outputs": []
    }
  ]
}