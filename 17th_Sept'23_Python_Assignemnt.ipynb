{
  "nbformat": 4,
  "nbformat_minor": 0,
  "metadata": {
    "colab": {
      "provenance": []
    },
    "kernelspec": {
      "name": "python3",
      "display_name": "Python 3"
    },
    "language_info": {
      "name": "python"
    }
  },
  "cells": [
    {
      "cell_type": "markdown",
      "source": [
        "**For Loop :-**\n",
        "\n"
      ],
      "metadata": {
        "id": "G_cMdOvB_WaN"
      }
    },
    {
      "cell_type": "code",
      "source": [
        "#1.Write a Python program to print numbers from 1 to 10 using a for loop.\n",
        "for i in range (1,11):\n",
        "  print(i)"
      ],
      "metadata": {
        "colab": {
          "base_uri": "https://localhost:8080/"
        },
        "id": "BU1sE5wl_eiF",
        "outputId": "aa632d70-4fbb-4b10-a4bd-a5a055ced376"
      },
      "execution_count": null,
      "outputs": [
        {
          "output_type": "stream",
          "name": "stdout",
          "text": [
            "1\n",
            "2\n",
            "3\n",
            "4\n",
            "5\n",
            "6\n",
            "7\n",
            "8\n",
            "9\n",
            "10\n"
          ]
        }
      ]
    },
    {
      "cell_type": "code",
      "source": [
        "#2.Explain the difference between a for loop and a while loop in Python.\n",
        "\n",
        "# for loop Used for iterating over a sequence (like a list, tuple, string, or range) or other iterable objects. It executes a block of code for each item in the sequence.\n",
        "\n",
        "# while loop Used for repeatedly executing a block of code as long as a given condition is true."
      ],
      "metadata": {
        "id": "ialJ31Lr_3eJ"
      },
      "execution_count": null,
      "outputs": []
    },
    {
      "cell_type": "code",
      "source": [
        "#3.Write a Python program to calculate the sum of all numbers from 1 to 100 using a for loop.\n",
        "\n",
        "for i in range (1,101):\n",
        "  print(i)"
      ],
      "metadata": {
        "colab": {
          "base_uri": "https://localhost:8080/"
        },
        "id": "1lNZkAheBD4a",
        "outputId": "fc17ac95-add2-445d-a4a6-ea3f4b4f22a6"
      },
      "execution_count": null,
      "outputs": [
        {
          "output_type": "stream",
          "name": "stdout",
          "text": [
            "1\n",
            "2\n",
            "3\n",
            "4\n",
            "5\n",
            "6\n",
            "7\n",
            "8\n",
            "9\n",
            "10\n",
            "11\n",
            "12\n",
            "13\n",
            "14\n",
            "15\n",
            "16\n",
            "17\n",
            "18\n",
            "19\n",
            "20\n",
            "21\n",
            "22\n",
            "23\n",
            "24\n",
            "25\n",
            "26\n",
            "27\n",
            "28\n",
            "29\n",
            "30\n",
            "31\n",
            "32\n",
            "33\n",
            "34\n",
            "35\n",
            "36\n",
            "37\n",
            "38\n",
            "39\n",
            "40\n",
            "41\n",
            "42\n",
            "43\n",
            "44\n",
            "45\n",
            "46\n",
            "47\n",
            "48\n",
            "49\n",
            "50\n",
            "51\n",
            "52\n",
            "53\n",
            "54\n",
            "55\n",
            "56\n",
            "57\n",
            "58\n",
            "59\n",
            "60\n",
            "61\n",
            "62\n",
            "63\n",
            "64\n",
            "65\n",
            "66\n",
            "67\n",
            "68\n",
            "69\n",
            "70\n",
            "71\n",
            "72\n",
            "73\n",
            "74\n",
            "75\n",
            "76\n",
            "77\n",
            "78\n",
            "79\n",
            "80\n",
            "81\n",
            "82\n",
            "83\n",
            "84\n",
            "85\n",
            "86\n",
            "87\n",
            "88\n",
            "89\n",
            "90\n",
            "91\n",
            "92\n",
            "93\n",
            "94\n",
            "95\n",
            "96\n",
            "97\n",
            "98\n",
            "99\n",
            "100\n"
          ]
        }
      ]
    },
    {
      "cell_type": "code",
      "source": [
        "#4.How do you iterate through a list using a for loop in Python?\n",
        "l=[1,2,3,4,5,6,7,8,9,10]\n",
        "for i in l:\n",
        "  print(i)"
      ],
      "metadata": {
        "colab": {
          "base_uri": "https://localhost:8080/"
        },
        "id": "pmGFUfX3BSsK",
        "outputId": "dea585c6-00c2-41ba-e86b-cb39e3d297f1"
      },
      "execution_count": null,
      "outputs": [
        {
          "output_type": "stream",
          "name": "stdout",
          "text": [
            "1\n",
            "2\n",
            "3\n",
            "4\n",
            "5\n",
            "6\n",
            "7\n",
            "8\n",
            "9\n",
            "10\n"
          ]
        }
      ]
    },
    {
      "cell_type": "code",
      "source": [
        "#5.Write a Python program to find the product of all elements in a list using a for loop.\n",
        "l=[3,5,7,2]\n",
        "def product(l):\n",
        "  p=1\n",
        "  for i in l:\n",
        "    p=p*i\n",
        "  return p\n",
        "product(l)"
      ],
      "metadata": {
        "colab": {
          "base_uri": "https://localhost:8080/"
        },
        "id": "aT_CJfm6B0Bo",
        "outputId": "0dcef88a-e204-4f26-def5-737246056017"
      },
      "execution_count": null,
      "outputs": [
        {
          "output_type": "execute_result",
          "data": {
            "text/plain": [
              "210"
            ]
          },
          "metadata": {},
          "execution_count": 32
        }
      ]
    },
    {
      "cell_type": "code",
      "source": [
        "#6.Create a Python program that prints all even numbers from 1 to 20 using a for loop.\n",
        "for i in range(1,21):\n",
        "  if i%2==0:\n",
        "    print(i)"
      ],
      "metadata": {
        "colab": {
          "base_uri": "https://localhost:8080/"
        },
        "id": "-_yi10aladUE",
        "outputId": "ce6d30bc-bc60-4e58-cdf6-717d066b7623"
      },
      "execution_count": null,
      "outputs": [
        {
          "output_type": "stream",
          "name": "stdout",
          "text": [
            "2\n",
            "4\n",
            "6\n",
            "8\n",
            "10\n",
            "12\n",
            "14\n",
            "16\n",
            "18\n",
            "20\n"
          ]
        }
      ]
    },
    {
      "cell_type": "code",
      "source": [
        "#7.Write a Python program that calculates the factorial of a number using a for loop.\n",
        "n=int(input(\" enter anumber \"))\n",
        "factorial = 1\n",
        "if n == 0:\n",
        "  print(1)\n",
        "else:\n",
        "  for i in range(1,n+1):\n",
        "    factorial = factorial * i\n",
        "  print(factorial)"
      ],
      "metadata": {
        "colab": {
          "base_uri": "https://localhost:8080/"
        },
        "id": "Sl5xK7a3bROw",
        "outputId": "734a158b-6972-4503-806e-81cbbcf420fd"
      },
      "execution_count": null,
      "outputs": [
        {
          "output_type": "stream",
          "name": "stdout",
          "text": [
            " enter anumber 5\n",
            "120\n"
          ]
        }
      ]
    },
    {
      "cell_type": "code",
      "source": [
        "#8.How can you iterate through the characters of a string using a for loop in Python?\n",
        "\n",
        "l=[1,2,3,4,5,6,7,8,9]\n",
        "l1=[]\n",
        "for i in l:\n",
        "  l1.append(i+2)\n",
        "print(l1)"
      ],
      "metadata": {
        "colab": {
          "base_uri": "https://localhost:8080/"
        },
        "id": "G8VACjJNcGqk",
        "outputId": "9d7e3de0-b08a-4d91-db09-c27066f0f3ea"
      },
      "execution_count": null,
      "outputs": [
        {
          "output_type": "stream",
          "name": "stdout",
          "text": [
            "[3, 4, 5, 6, 7, 8, 9, 10, 11]\n"
          ]
        }
      ]
    },
    {
      "cell_type": "code",
      "source": [
        "#9.Write a Python program to find the largest number in a list using a for loop.\n",
        "l=[1,2,3,4,5,6,7,8,9,10]\n",
        "count=0\n",
        "for i in l:\n",
        "  count=max(l)\n",
        "print(count)"
      ],
      "metadata": {
        "colab": {
          "base_uri": "https://localhost:8080/"
        },
        "id": "TgjxT9bIg-6m",
        "outputId": "e0922be9-8501-42fe-dcee-71590a51c020"
      },
      "execution_count": null,
      "outputs": [
        {
          "output_type": "stream",
          "name": "stdout",
          "text": [
            "10\n"
          ]
        }
      ]
    },
    {
      "cell_type": "code",
      "source": [
        "#10.Create a Python program that prints the Fibonacci sequence up to a specified limit using a for loop.\n",
        "def fib(n):\n",
        "  a,b=0,1\n",
        "  for i in range(n):\n",
        "    yield a\n",
        "    a,b=b,a+b\n",
        "for i in fib(10):\n",
        "  print(i)"
      ],
      "metadata": {
        "colab": {
          "base_uri": "https://localhost:8080/"
        },
        "id": "DbywbOzYoQT5",
        "outputId": "6665c7f6-94b4-4198-b5d9-2ee66f676f4d"
      },
      "execution_count": null,
      "outputs": [
        {
          "output_type": "stream",
          "name": "stdout",
          "text": [
            "0\n",
            "1\n",
            "1\n",
            "2\n",
            "3\n",
            "5\n",
            "8\n",
            "13\n",
            "21\n",
            "34\n"
          ]
        }
      ]
    },
    {
      "cell_type": "code",
      "source": [
        "#11.Write a Python program to count the number of vowels in a given string using a for loop.\n",
        "str=input(\"enter a string \")\n",
        "count=0\n",
        "for j in str:\n",
        "  if j=='a' or j=='e' or j=='i' or j=='o' or j=='u'or j=='A' or j=='E' or j=='I' or j=='O' or j=='U':\n",
        "    count=count+1\n",
        "print(count)"
      ],
      "metadata": {
        "colab": {
          "base_uri": "https://localhost:8080/"
        },
        "id": "yVWco3RFqwNf",
        "outputId": "488ce75e-3b2c-4ab9-89ee-34e3e17223ba"
      },
      "execution_count": null,
      "outputs": [
        {
          "output_type": "stream",
          "name": "stdout",
          "text": [
            "enter a string noida Is my HOME town\n",
            "7\n"
          ]
        }
      ]
    },
    {
      "cell_type": "code",
      "source": [
        "#12.Create a Python program that generates a multiplication table for a given number using a for loop.\n",
        "n=int(input(\"enter a number\"))\n",
        "for i in range(1,11):\n",
        "  if n!=0:\n",
        "    print(n,\"*\",i,\"=\",n*i)\n"
      ],
      "metadata": {
        "colab": {
          "base_uri": "https://localhost:8080/"
        },
        "id": "majirlz6sRIA",
        "outputId": "09615282-e799-4ee4-89e7-d845975a2308"
      },
      "execution_count": null,
      "outputs": [
        {
          "output_type": "stream",
          "name": "stdout",
          "text": [
            "enter a number7\n",
            "7 * 1 = 7\n",
            "7 * 2 = 14\n",
            "7 * 3 = 21\n",
            "7 * 4 = 28\n",
            "7 * 5 = 35\n",
            "7 * 6 = 42\n",
            "7 * 7 = 49\n",
            "7 * 8 = 56\n",
            "7 * 9 = 63\n",
            "7 * 10 = 70\n"
          ]
        }
      ]
    },
    {
      "cell_type": "code",
      "source": [
        "#13.Write a Python program to reverse a list using a for loop.\n",
        "l=[1,2,3,4,5,6,7,8,9,10]\n",
        "l1=[]\n",
        "for i in l:\n",
        "  l.append(i)\n",
        "  l1.reverse()\n",
        "print(l1)\n"
      ],
      "metadata": {
        "id": "2L4nhv6ewJ54"
      },
      "execution_count": null,
      "outputs": []
    },
    {
      "cell_type": "code",
      "source": [
        "#14.Write a Python program to find the common elements between two lists using a for loop.\n",
        "l=[1,2,3,4,5,6,7,8,9,10]\n",
        "l1=[6,7,8,9,10,11,12,13,14,15]\n",
        "l2=[]\n",
        "for i in l:\n",
        "  for j in l1:\n",
        "    if i==j:\n",
        "      l2.append(i)\n",
        "print(l2)"
      ],
      "metadata": {
        "id": "UixgsyR0zdiI",
        "colab": {
          "base_uri": "https://localhost:8080/"
        },
        "outputId": "d1d58d4c-36c7-4ee3-f760-25986606d586"
      },
      "execution_count": null,
      "outputs": [
        {
          "output_type": "stream",
          "name": "stdout",
          "text": [
            "[6, 7, 8, 9, 10]\n"
          ]
        }
      ]
    },
    {
      "cell_type": "code",
      "source": [
        "#15.Explain how to use a for loop to iterate through the keys and values of a dictionary in Python\n",
        "d={'name':'sumit','city':'noida','age':'30','mobile':'1234567890'}\n",
        "for i in d.items():\n",
        "  print(i)"
      ],
      "metadata": {
        "colab": {
          "base_uri": "https://localhost:8080/"
        },
        "id": "iamD9_j1Xnd8",
        "outputId": "ae6b95e4-a992-4dc5-cf7a-33a05fedf634"
      },
      "execution_count": null,
      "outputs": [
        {
          "output_type": "stream",
          "name": "stdout",
          "text": [
            "('name', 'sumit')\n",
            "('city', 'noida')\n",
            "('age', '30')\n",
            "('mobile', '1234567890')\n"
          ]
        }
      ]
    },
    {
      "cell_type": "code",
      "source": [
        "#16.Write a Python program to find the GCD (Greatest Common Divisor) of two numbers using a for loop.\n",
        "n1=int(input(\"enter a number\"))\n",
        "n2=int(input(\"enter a number\"))\n",
        "for i in range(1,n1+1):\n",
        "  if n1%i==0 and n2%i==0:\n",
        "    gcd=i\n",
        "print(gcd)"
      ],
      "metadata": {
        "colab": {
          "base_uri": "https://localhost:8080/"
        },
        "id": "lOeFKXiyaUGU",
        "outputId": "5bd6aed6-7a44-4c74-ffe8-909c2e9358c2"
      },
      "execution_count": null,
      "outputs": [
        {
          "output_type": "stream",
          "name": "stdout",
          "text": [
            "enter a number51\n",
            "enter a number204\n",
            "51\n"
          ]
        }
      ]
    },
    {
      "cell_type": "code",
      "source": [
        "#17.Create a Python program that checks if a string is a palindrome using a for loop.\n",
        "s=input(\" enter a string \")\n",
        "for i in s:\n",
        "  if s==s[::-1]:\n",
        "    print(\"palindrome\")\n",
        "  else:\n",
        "    print(\"not palindrome\")"
      ],
      "metadata": {
        "colab": {
          "base_uri": "https://localhost:8080/"
        },
        "id": "f2jAEf_7eAKu",
        "outputId": "58085ad7-bacc-4eff-d29d-9f9e554555cc"
      },
      "execution_count": null,
      "outputs": [
        {
          "output_type": "stream",
          "name": "stdout",
          "text": [
            " enter a string madam\n",
            "palindrome\n",
            "palindrome\n",
            "palindrome\n",
            "palindrome\n",
            "palindrome\n"
          ]
        }
      ]
    },
    {
      "cell_type": "code",
      "source": [
        "#18.Write a Python program to remove duplicates from a list using a for loop.\n",
        "l=[1,1,2,2,3,3,4,5,6,7,8,9,10]\n",
        "result=[]\n",
        "for i in l:\n",
        "  if i not in result:\n",
        "    result.append(i)\n",
        "print(result)"
      ],
      "metadata": {
        "colab": {
          "base_uri": "https://localhost:8080/"
        },
        "id": "4BOyCG3Njpcf",
        "outputId": "36a0b521-cce4-44cd-9e17-0846b42e6a57"
      },
      "execution_count": null,
      "outputs": [
        {
          "output_type": "stream",
          "name": "stdout",
          "text": [
            "[1, 2, 3, 4, 5, 6, 7, 8, 9, 10]\n"
          ]
        }
      ]
    },
    {
      "cell_type": "code",
      "source": [
        "#19.Create a Python program that counts the number of words in a sentence using a for loop.\n",
        "s1=input(\"enter a sentence \")\n",
        "count=0\n",
        "for i in s1:\n",
        "  count+=1\n",
        "print(count)\n"
      ],
      "metadata": {
        "colab": {
          "base_uri": "https://localhost:8080/"
        },
        "id": "7xxXri5YmzlI",
        "outputId": "779180b7-b90c-43ed-ad27-d4362b2f4862"
      },
      "execution_count": null,
      "outputs": [
        {
          "output_type": "stream",
          "name": "stdout",
          "text": [
            "enter a sentence I LOVE MY INDIA\n",
            "15\n"
          ]
        }
      ]
    },
    {
      "cell_type": "code",
      "source": [
        "#20.Write a Python program to find the sum of all odd numbers from 1 to 50 using a for loop.\n",
        "for i in range(1,51):\n",
        "  if i%2!=0:\n",
        "    print(i)"
      ],
      "metadata": {
        "colab": {
          "base_uri": "https://localhost:8080/"
        },
        "id": "4DOGCpIPqtjD",
        "outputId": "d94fbca0-54ea-4a80-8a75-b2eba4a4d752"
      },
      "execution_count": null,
      "outputs": [
        {
          "output_type": "stream",
          "name": "stdout",
          "text": [
            "1\n",
            "3\n",
            "5\n",
            "7\n",
            "9\n",
            "11\n",
            "13\n",
            "15\n",
            "17\n",
            "19\n",
            "21\n",
            "23\n",
            "25\n",
            "27\n",
            "29\n",
            "31\n",
            "33\n",
            "35\n",
            "37\n",
            "39\n",
            "41\n",
            "43\n",
            "45\n",
            "47\n",
            "49\n"
          ]
        }
      ]
    },
    {
      "cell_type": "code",
      "source": [
        "#21.Write a Python program that checks if a given year is a leap year using a for loop.\n",
        "year=int(input(\"enter a year\"))\n",
        "if (year % 4 == 0 and year % 100 != 0) or (year % 400 == 0):\n",
        "    print(\"leap year\")\n",
        "else:\n",
        "    print(\"not leap year\")"
      ],
      "metadata": {
        "colab": {
          "base_uri": "https://localhost:8080/"
        },
        "id": "CnCWiRT31syx",
        "outputId": "2af5ebf6-6dbc-4d65-9e45-033e615dca8a"
      },
      "execution_count": null,
      "outputs": [
        {
          "output_type": "stream",
          "name": "stdout",
          "text": [
            "enter a year2020\n",
            "leap year\n"
          ]
        }
      ]
    },
    {
      "cell_type": "code",
      "source": [
        "#22.Create a Python program that calculates the square root of a number using a for loop.\n",
        "n=(input(\"enter a number\"))\n",
        "for i in n:\n",
        "  print(int(i)**0.5)"
      ],
      "metadata": {
        "colab": {
          "base_uri": "https://localhost:8080/"
        },
        "id": "RjRYg-hoApIa",
        "outputId": "9818d115-aa9b-4ebf-9932-d7b6df697876"
      },
      "execution_count": null,
      "outputs": [
        {
          "output_type": "stream",
          "name": "stdout",
          "text": [
            "enter a number2\n",
            "1.4142135623730951\n"
          ]
        }
      ]
    },
    {
      "cell_type": "code",
      "source": [
        " #23.Write a Python program to find the LCM (Least Common Multiple) of two numbers using a for loop\n",
        " n1=int(input(\"enter a first number\"))\n",
        " n2=int(input(\"enter a second number\"))\n",
        "\n",
        " for i in range(max(n1, n2),1 + (n1 * n2), max(n1, n2)):\n",
        "    if i % n1 == i % n2 == 0:\n",
        "        lcm = i\n",
        "        break\n",
        "print(lcm)\n"
      ],
      "metadata": {
        "colab": {
          "base_uri": "https://localhost:8080/"
        },
        "id": "Fx9ReliJHSjA",
        "outputId": "4dbcf943-840d-4247-8913-950ff7f6c71d"
      },
      "execution_count": null,
      "outputs": [
        {
          "output_type": "stream",
          "name": "stdout",
          "text": [
            "enter a first number5\n",
            "enter a second number6\n",
            "30\n"
          ]
        }
      ]
    },
    {
      "cell_type": "markdown",
      "source": [
        "If else :\n"
      ],
      "metadata": {
        "id": "Qr8KMARbSlfl"
      }
    },
    {
      "cell_type": "code",
      "source": [
        "#1.Write a Python program to check if a number is positive, negative, or zero using an if-else statement.\n",
        "n=int(input(\"enter a number\"))\n",
        "if n>0:\n",
        "  print(\"positive\")\n",
        "elif n<0:\n",
        "  print(\"negative\")\n",
        "else:\n",
        "  print(\"zero\")"
      ],
      "metadata": {
        "colab": {
          "base_uri": "https://localhost:8080/"
        },
        "id": "3DYyv_QxSmh3",
        "outputId": "fbfb7b86-e0fd-44e0-ae21-43b9c7d5776d"
      },
      "execution_count": null,
      "outputs": [
        {
          "output_type": "stream",
          "name": "stdout",
          "text": [
            "enter a number34\n",
            "positive\n"
          ]
        }
      ]
    },
    {
      "cell_type": "code",
      "source": [
        "#2.Create a Python program that checks if a given number is even or odd using an if-else statement.\n",
        "n=int(input(\"enter a number\"))\n",
        "if n%2==0:\n",
        "  print(n,\"is even number\")\n",
        "else:\n",
        "  print(n,\"is odd number\")"
      ],
      "metadata": {
        "colab": {
          "base_uri": "https://localhost:8080/"
        },
        "id": "RdyGywkPSwXl",
        "outputId": "f41fb311-e5b5-421b-dde8-5ade61199d1d"
      },
      "execution_count": null,
      "outputs": [
        {
          "output_type": "stream",
          "name": "stdout",
          "text": [
            "enter a number7\n",
            "7 is odd number\n"
          ]
        }
      ]
    },
    {
      "cell_type": "code",
      "source": [
        "#3.Create a Python program that checks if a given number is even or odd using an if-else statement.\n",
        "year=int(input(\"enter a year\"))\n",
        "if (year % 4 == 0 and year % 100 != 0) or (year % 400 == 0):\n",
        "    print(year,\"is leap year\")\n",
        "else:\n",
        "    print(year,\"is not leap year\")"
      ],
      "metadata": {
        "colab": {
          "base_uri": "https://localhost:8080/"
        },
        "id": "xyJ4vBCPTTMl",
        "outputId": "8a66da60-4ed3-486c-c30f-5064cb755e4e"
      },
      "execution_count": null,
      "outputs": [
        {
          "output_type": "stream",
          "name": "stdout",
          "text": [
            "enter a year2020\n",
            "2020 is leap year\n"
          ]
        }
      ]
    },
    {
      "cell_type": "code",
      "source": [
        "#4.Write a Python program to determine the largest of three numbers using if-else.\n",
        "n1=int(input(\"enter a first number\"))\n",
        "n2=int(input(\"enter a second number\"))\n",
        "n3=int(input(\"enter a third number\"))\n",
        "if n1>n2 and n1>n3:\n",
        "  print(n1,\"is largest number\")\n",
        "elif n2>n3:\n",
        "  print(n2,\"is largest number\")\n",
        "else:\n",
        "  print(n3,\"is largest number\")"
      ],
      "metadata": {
        "colab": {
          "base_uri": "https://localhost:8080/"
        },
        "id": "wGRlfbClX5pE",
        "outputId": "571afd7e-7ff1-47ca-9e63-8698d98875d5"
      },
      "execution_count": null,
      "outputs": [
        {
          "output_type": "stream",
          "name": "stdout",
          "text": [
            "enter a first number234678\n",
            "enter a second number23467\n",
            "enter a third number239875\n",
            "239875 is largest number\n"
          ]
        }
      ]
    },
    {
      "cell_type": "code",
      "source": [
        "#5.Write a Python program that calculates the absolute value of a number using if-else.\n",
        "n=float(input(\"enter a  number\"))\n",
        "if n>0:\n",
        "  print(n,\"is positive number\")\n",
        "elif  n<0:\n",
        "  print(n,\"is negative number\")\n",
        "else:\n",
        "    print(n,\" is zero\")\n"
      ],
      "metadata": {
        "colab": {
          "base_uri": "https://localhost:8080/"
        },
        "id": "9v8H9oFWUr6v",
        "outputId": "df48e845-13ea-406e-a8d9-a04a99161e38"
      },
      "execution_count": null,
      "outputs": [
        {
          "output_type": "stream",
          "name": "stdout",
          "text": [
            "enter a  number6.9874\n",
            "6.9874 is positive number\n"
          ]
        }
      ]
    },
    {
      "cell_type": "code",
      "source": [
        "#6.Create a Python program that checks if a given character is a vowel or consonant using if-else.\n",
        "s1=input(\" enter a character \")\n",
        "if s=='a' or s=='e' or s=='i' or s=='o' or s=='u'or s=='A' or s=='E' or s=='I' or s=='O' or s=='U':\n",
        "  print(s1,\"is vowel\")\n",
        "else:\n",
        "  print(s1,\"is consonant\")"
      ],
      "metadata": {
        "colab": {
          "base_uri": "https://localhost:8080/"
        },
        "id": "O1sAPtHeWFnP",
        "outputId": "8eb417db-fef5-4673-e2bb-09f8ab291fce"
      },
      "execution_count": null,
      "outputs": [
        {
          "output_type": "stream",
          "name": "stdout",
          "text": [
            " enter a character H\n",
            "H is consonant\n"
          ]
        }
      ]
    },
    {
      "cell_type": "code",
      "source": [
        "#7.Write a Python program to determine if a user is eligible to vote based on their age using if-else.\n",
        "\n",
        "age=int(input(\"enter a age\"))\n",
        "if age>=18:\n",
        "  print(\"eligible to vote\")\n",
        "else:\n",
        "  print(\"not eligible to vote\")"
      ],
      "metadata": {
        "colab": {
          "base_uri": "https://localhost:8080/"
        },
        "id": "LjwI1bHJfvEL",
        "outputId": "977e813a-ce9e-4d8d-8e10-246404d0c426"
      },
      "execution_count": null,
      "outputs": [
        {
          "output_type": "stream",
          "name": "stdout",
          "text": [
            "enter a age6\n",
            "not eligible to vote\n"
          ]
        }
      ]
    },
    {
      "cell_type": "code",
      "source": [
        "#8.Create a Python program that calculates the discount amount based on the purchase amount using if-else.\n",
        "purchase_amount = float(input(\"Enter the purchase amount: \"))\n",
        "\n",
        "discount_rate = 0.0  # Default discount rate\n",
        "\n",
        "if purchase_amount >= 100:\n",
        "    discount_rate = 0.1  # 10% discount for purchases of $100 or more\n",
        "    discount_amount = purchase_amount * discount_rate\n",
        "    total_amount = purchase_amount - discount_amount\n",
        "    print(f\"Discount amount: ${discount_amount:.2f}\")\n",
        "    print(f\"Total amount after discount: ${total_amount:.2f}\")"
      ],
      "metadata": {
        "colab": {
          "base_uri": "https://localhost:8080/"
        },
        "id": "1iQ4-VcygTfK",
        "outputId": "6c3c8518-d39e-4373-8d66-05f658f0db2c"
      },
      "execution_count": null,
      "outputs": [
        {
          "output_type": "stream",
          "name": "stdout",
          "text": [
            "Enter the purchase amount: 770\n",
            "Discount amount: $77.00\n",
            "Total amount after discount: $693.00\n"
          ]
        }
      ]
    },
    {
      "cell_type": "code",
      "source": [
        "#9.Write a Python program to check if a number is within a specified range using if-else.\n",
        "n=float(input(\"enter a number\"))\n",
        "if 500<=n<=750:\n",
        "  print(n,\"is within the range\")\n",
        "else:\n",
        "  print(n,\"is not within the range\")"
      ],
      "metadata": {
        "colab": {
          "base_uri": "https://localhost:8080/"
        },
        "id": "NpAva9gNguoI",
        "outputId": "bd7dd130-a945-429d-fe32-be4e56871ea2"
      },
      "execution_count": null,
      "outputs": [
        {
          "output_type": "stream",
          "name": "stdout",
          "text": [
            "enter a number890\n",
            "890.0 is not within the range\n"
          ]
        }
      ]
    },
    {
      "cell_type": "code",
      "source": [
        "#10.Create a Python program that determines the grade of a student based on their score using if-else.\n",
        "sore=float(input(\"enter a  number\"))\n",
        "if 90<sore<=100:\n",
        "  print(\"student grade is A\")\n",
        "elif 80<sore<=90:\n",
        "  print(\"student grade is B\")\n",
        "elif 70<sore<=80:\n",
        "  print(\"student grade is C\")\n"
      ],
      "metadata": {
        "colab": {
          "base_uri": "https://localhost:8080/"
        },
        "id": "_-Se1Cxhhl3F",
        "outputId": "95d29b4f-0bde-42bd-cf08-724856b00f8d"
      },
      "execution_count": null,
      "outputs": [
        {
          "output_type": "stream",
          "name": "stdout",
          "text": [
            "enter a  number78\n",
            "student grade is C\n"
          ]
        }
      ]
    },
    {
      "cell_type": "code",
      "source": [
        "#11.Write a Python program to check if a string is empty or not using if-else.\n",
        "s=input(\" enter a string \")\n",
        "if s==\"\":\n",
        "  print(\"string is empty\")\n",
        "else:\n",
        "  print(\"string is not empty\")\n"
      ],
      "metadata": {
        "colab": {
          "base_uri": "https://localhost:8080/"
        },
        "id": "Rke348UXio1Z",
        "outputId": "87b5f292-dc26-4f78-9767-b98a53d0221b"
      },
      "execution_count": null,
      "outputs": [
        {
          "output_type": "stream",
          "name": "stdout",
          "text": [
            " enter a string dgwy\n",
            "string is not empty\n"
          ]
        }
      ]
    },
    {
      "cell_type": "code",
      "source": [
        "#12.Create a Python program that identifies the type of a triangle (e.g., equilateral, isosceles, or scalene) based on input values using if-else.\n",
        "angle=float(input(\"enter a angle\"))\n",
        "if angle==90:\n",
        "  print(\"right angle triangle\")\n",
        "elif angle<90:\n",
        "  print(\"acute angle triangle\")\n",
        "else:\n",
        "  print(\"obtuse angle triangle\")"
      ],
      "metadata": {
        "id": "6TiS-u13i95k",
        "colab": {
          "base_uri": "https://localhost:8080/"
        },
        "outputId": "3390456d-9e16-4e8a-e66f-f87971bb649a"
      },
      "execution_count": null,
      "outputs": [
        {
          "output_type": "stream",
          "name": "stdout",
          "text": [
            "enter a angle89.99735\n",
            "acute angle triangle\n"
          ]
        }
      ]
    },
    {
      "cell_type": "code",
      "source": [
        "#13.Write a Python program to determine the day of the week based on a user-provided number using if-else.\n",
        "day=int(input(\"enter a number\"))\n",
        "if day==1:\n",
        "  print(\"  Monday \")\n",
        "elif day==2:\n",
        "  print(\" Tuesday \")\n",
        "elif day==3:\n",
        "  print(\" Wednesday \")\n",
        "elif day==4:\n",
        "  print(\" Trusday \")\n",
        "elif day==5:\n",
        "  print(\" Friday \")\n",
        "elif day==6:\n",
        "  print(\" Saturday \")\n",
        "elif day==7:\n",
        "  print(\" Sunday \")\n",
        "else:\n",
        "  print(\"invalid number\")"
      ],
      "metadata": {
        "colab": {
          "base_uri": "https://localhost:8080/"
        },
        "id": "zV04b3ph4gMK",
        "outputId": "d4f05f9b-fd7a-45da-b43b-5b78f0ebd1ef"
      },
      "execution_count": null,
      "outputs": [
        {
          "output_type": "stream",
          "name": "stdout",
          "text": [
            "enter a number2\n",
            " Tuesday \n"
          ]
        }
      ]
    },
    {
      "cell_type": "code",
      "source": [
        "#14.Create a Python program that checks if a given year is a leap year using both if-else and a function.\n",
        "y=int(input(\"enter a year\"))\n",
        "if y%4==0 and y%400==0:\n",
        "  print(y ,\" is leap year\")\n",
        "else:\n",
        "  print(y,\"is not leap year\")"
      ],
      "metadata": {
        "colab": {
          "base_uri": "https://localhost:8080/"
        },
        "id": "1CLu8gJT42v5",
        "outputId": "f6fba6b3-3bec-42c5-812b-3d22da87082f"
      },
      "execution_count": null,
      "outputs": [
        {
          "output_type": "stream",
          "name": "stdout",
          "text": [
            "enter a year2000\n",
            "2000  is leap year\n"
          ]
        }
      ]
    },
    {
      "cell_type": "code",
      "source": [
        "15.How do you use the \"assert\" statement in Python to add debugging checks within if-else blocks?\n",
        "def calculate_discount(purchase_amount):\n",
        "  if purchase_amount >= 100:\n",
        "    discount = 0.1  # 10% discount\n",
        "    assert discount > 0, \"Discount should be positive\"  # Check if discount is positive\n",
        "  else:\n",
        "    discount = 0\n",
        "    assert discount == 0, \"Discount should be zero\"  # Check if discount is zero\n",
        "  return discount\n",
        "discount = calculate_discount(150)\n",
        "print(\"Discount:\", discount)"
      ],
      "metadata": {
        "colab": {
          "base_uri": "https://localhost:8080/"
        },
        "id": "p756xBhr5v57",
        "outputId": "a98df013-3957-4e9e-93b7-276682feba12"
      },
      "execution_count": null,
      "outputs": [
        {
          "output_type": "stream",
          "name": "stdout",
          "text": [
            "Object `blocks` not found.\n",
            "Discount: 0.1\n"
          ]
        }
      ]
    },
    {
      "cell_type": "code",
      "source": [
        "#16.Create a Python program that determines the eligibility of a person for a senior citizen discount based on age using if-else.\n",
        "age=int(input(\"enter a age\"))\n",
        "if age>=60:\n",
        "  print(\"eligible for senior citizen discount\")\n",
        "else:\n",
        "  print(\"not eligible for senior citizen discount\")"
      ],
      "metadata": {
        "colab": {
          "base_uri": "https://localhost:8080/"
        },
        "id": "EPzJTyQ56ckL",
        "outputId": "68c89b85-b43f-46b8-c2cf-10d1128ba924"
      },
      "execution_count": null,
      "outputs": [
        {
          "output_type": "stream",
          "name": "stdout",
          "text": [
            "enter a age67\n",
            "eligible for senior citizen discount\n"
          ]
        }
      ]
    },
    {
      "cell_type": "code",
      "source": [
        "#17.Write a Python program to categorize a given character as uppercase, lowercase, or neither using if-else.\n",
        "s=input(\"enter a character\")\n",
        "if s.isupper():\n",
        "  print(s,\"is uppercase\")\n",
        "elif s.islower():\n",
        "  print(s,\"is lowercase\")\n",
        "else:\n",
        "  print(s,\"is neither uppercase nor lowercase\")"
      ],
      "metadata": {
        "colab": {
          "base_uri": "https://localhost:8080/"
        },
        "id": "teYmTLCw7Hsq",
        "outputId": "c942dd79-0c5c-4bf4-efd8-76978d613fd7"
      },
      "execution_count": null,
      "outputs": [
        {
          "output_type": "stream",
          "name": "stdout",
          "text": [
            "enter a characterindia\n",
            "india is lowercase\n"
          ]
        }
      ]
    },
    {
      "cell_type": "code",
      "source": [
        "#18.Write a Python program to determine the roots of a quadratic equation using if-else.\n",
        "\n",
        "import cmath\n",
        "\n",
        "# Get the coefficients from the user\n",
        "a = float(input(\"Enter the coefficient of x^2: \"))\n",
        "b = float(input(\"Enter the coefficient of x: \"))\n",
        "c = float(input(\"Enter the constant term: \"))\n",
        "\n",
        "# Calculate the discriminant\n",
        "discriminant = (b**2) - 4*(a*c)\n",
        "\n",
        "# Check the discriminant to determine the nature of the roots\n",
        "if discriminant > 0:\n",
        "    # Two distinct real roots\n",
        "    root1 = (-b + discriminant**0.5) / (2*a)\n",
        "    root2 = (-b - discriminant**0.5) / (2*a)\n",
        "    print(\"The roots are real and distinct:\")\n",
        "    print(\"Root 1:\", root1)\n",
        "    print(\"Root 2:\", root2)\n",
        "elif discriminant == 0:\n",
        "    # One real root (repeated)\n",
        "    root = -b / (2*a)\n",
        "    print(\"The root is real and repeated:\")\n",
        "    print(\"Root:\", root)\n",
        "else:\n",
        "    # Two complex roots\n",
        "    root1 = (-b + cmath.sqrt(discriminant)) / (2*a)\n",
        "    root2 = (-b - cmath.sqrt(discriminant)) / (2*a)\n",
        "    print(\"The roots are complex:\")\n",
        "    print(\"Root 1:\", root1)\n",
        "    print(\"Root 2:\", root2)"
      ],
      "metadata": {
        "colab": {
          "base_uri": "https://localhost:8080/"
        },
        "id": "IK649gWJ7kkv",
        "outputId": "333d2fbc-5e89-463b-d191-2983fa18d532"
      },
      "execution_count": null,
      "outputs": [
        {
          "output_type": "stream",
          "name": "stdout",
          "text": [
            "Enter the coefficient of x^2: 1\n",
            "Enter the coefficient of x: 6\n",
            "Enter the constant term: 12\n",
            "The roots are complex:\n",
            "Root 1: (-3+1.7320508075688772j)\n",
            "Root 2: (-3-1.7320508075688772j)\n"
          ]
        }
      ]
    },
    {
      "cell_type": "code",
      "source": [
        "#19.Create a Python program that checks if a given year is a century year or not using if-else.\n",
        "year=int(input(\"enter a year\"))\n",
        "if year%100==0:\n",
        "  print(year,\"is a century year\")\n",
        "else:\n",
        "  print(year,\"is not a century year\")\n"
      ],
      "metadata": {
        "colab": {
          "base_uri": "https://localhost:8080/"
        },
        "id": "sY8tQcIy8ESc",
        "outputId": "af13cd43-eac5-4ec0-a128-7a4d04e55108"
      },
      "execution_count": null,
      "outputs": [
        {
          "output_type": "stream",
          "name": "stdout",
          "text": [
            "enter a year2000\n",
            "2000 is a century year\n"
          ]
        }
      ]
    },
    {
      "cell_type": "code",
      "source": [
        "#20.Write a Python program to determine if a given number is a perfect square using if-else.\n",
        "n=int(input(\"enter a number\"))\n",
        "if n**0.5==int(n**0.5):\n",
        "  print(n,\"is a perfect square\")\n",
        "else:\n",
        "  print(n,\"is not a perfect square\")"
      ],
      "metadata": {
        "colab": {
          "base_uri": "https://localhost:8080/"
        },
        "id": "E5TPwSh2-Hx1",
        "outputId": "0c50f8e7-e235-4b19-fae8-fedd8f63c2d0"
      },
      "execution_count": null,
      "outputs": [
        {
          "output_type": "stream",
          "name": "stdout",
          "text": [
            "enter a number10\n",
            "10 is not a perfect square\n"
          ]
        }
      ]
    },
    {
      "cell_type": "code",
      "source": [
        "#21.Explain the purpose of the \"continue\" and \"break\" statements within if-else loops.\n",
        "for i in range(1, 6):\n",
        "    if i == 4:\n",
        "        continue  # Skip the iteration when i is 3\n",
        "    print(i)\n",
        "\n",
        "#The continue statement is used to skip the remaining code within the current iteration of a loop and move to the next iteration."
      ],
      "metadata": {
        "colab": {
          "base_uri": "https://localhost:8080/"
        },
        "id": "mEY-1pEa_O9H",
        "outputId": "4e859f21-67ea-44fe-c8b8-e2d636856876"
      },
      "execution_count": null,
      "outputs": [
        {
          "output_type": "stream",
          "name": "stdout",
          "text": [
            "1\n",
            "2\n",
            "3\n",
            "5\n"
          ]
        }
      ]
    },
    {
      "cell_type": "code",
      "source": [
        "#The break statement is used to terminate the entire loop prematurely.\n",
        "for i in range(1, 6):\n",
        "    if i == 5:\n",
        "        break  # Exit the loop when i is 3\n",
        "    print(i)"
      ],
      "metadata": {
        "colab": {
          "base_uri": "https://localhost:8080/"
        },
        "id": "qPiwFW2-CZXN",
        "outputId": "a91c18e8-0c63-44a3-a33c-7df603cfc745"
      },
      "execution_count": null,
      "outputs": [
        {
          "output_type": "stream",
          "name": "stdout",
          "text": [
            "1\n",
            "2\n",
            "3\n",
            "4\n"
          ]
        }
      ]
    },
    {
      "cell_type": "code",
      "source": [
        "#22.Create a Python program that calculates the BMI (Body Mass Index) of a person based on their weight and height using if-else.\n",
        "# BMI = kg/m2\n",
        "#weight in kg\n",
        "#hight in meter\n",
        "\n",
        "\n",
        "weight=float(input(\"enter a weight\"))\n",
        "height=float(input(\"enter a height\"))\n",
        "bmi=weight/height**2\n",
        "if bmi<18.5:\n",
        "  print(\"underweight\")\n",
        "elif 18.5<=bmi<=24.9:\n",
        "  print(\"normal weight\")\n",
        "elif 25<=bmi<=29.9:\n",
        "  print(\"overweight\")\n",
        "else:\n",
        "  print(\"you are in extra over weight\")"
      ],
      "metadata": {
        "colab": {
          "base_uri": "https://localhost:8080/"
        },
        "id": "GmP0BopkCqop",
        "outputId": "e232a457-1db3-4d6f-ae00-2f46da9d4712"
      },
      "execution_count": null,
      "outputs": [
        {
          "output_type": "stream",
          "name": "stdout",
          "text": [
            "enter a weight85\n",
            "enter a height1.69\n",
            "overweight\n"
          ]
        }
      ]
    },
    {
      "cell_type": "code",
      "source": [
        "#23.How can you use the \"filter()\" function with if-else statements to filter elements from a list?\n",
        "\n",
        "#A function that returns True or False for each element in the list. This is your filtering condition using if-else.\n",
        "def is_even(number):\n",
        "  if number % 2 == 0:\n",
        "    return True\n",
        "  else:\n",
        "    return False\n"
      ],
      "metadata": {
        "id": "Y4dbU3VKF5DN"
      },
      "execution_count": null,
      "outputs": []
    },
    {
      "cell_type": "code",
      "source": [
        "is_even(14)"
      ],
      "metadata": {
        "colab": {
          "base_uri": "https://localhost:8080/"
        },
        "id": "FEB_pS9UHVjE",
        "outputId": "0528e3f8-ff4d-4f38-df48-93c9b2db780e"
      },
      "execution_count": null,
      "outputs": [
        {
          "output_type": "execute_result",
          "data": {
            "text/plain": [
              "True"
            ]
          },
          "metadata": {},
          "execution_count": 42
        }
      ]
    },
    {
      "cell_type": "code",
      "source": [
        "#24.Write a Python program to determine if a given number is prime or not using if-else.\n",
        "\n",
        "#numbers that have only 2 factors: 1 and themselves\n",
        "n= int(input(\"enter a number\"))\n",
        "if n%1==0 :\n",
        "  print(n,\"is prime number\")\n",
        "elif n%n==0:\n",
        "    print(n,\"is prime number\")\n",
        "else:\n",
        "  print(n,\"is not prime number\")"
      ],
      "metadata": {
        "colab": {
          "base_uri": "https://localhost:8080/"
        },
        "id": "_TwvjZVEH5OO",
        "outputId": "6558a4b8-7ec8-4f84-bf8c-7b8bd5721547"
      },
      "execution_count": null,
      "outputs": [
        {
          "output_type": "stream",
          "name": "stdout",
          "text": [
            "enter a number7\n",
            "7 is prime number\n"
          ]
        }
      ]
    },
    {
      "cell_type": "markdown",
      "source": [
        "Map:-"
      ],
      "metadata": {
        "id": "125J8C-QvAfR"
      }
    },
    {
      "cell_type": "code",
      "source": [
        "#1.Explain the purpose of the `map()` function in Python and provide an example of how it can be\n",
        "\n",
        "# The map() function in Python applies a given function to each item of an iterable (like a list, tuple, etc.) and returns an iterator containing the results. It's a way to process and transform all elements of an iterable without writing a loop.\n",
        "def square(number):\n",
        "  return number * number\n",
        "\n",
        "numbers = [1, 2, 3, 4, 5]\n",
        "squared_numbers = list(map(square, numbers))\n",
        "print(squared_numbers)"
      ],
      "metadata": {
        "colab": {
          "base_uri": "https://localhost:8080/"
        },
        "id": "84KZhGrRvI9V",
        "outputId": "2eac663c-0dd2-4036-bc58-656d2a5bcf40"
      },
      "execution_count": null,
      "outputs": [
        {
          "output_type": "stream",
          "name": "stdout",
          "text": [
            "[1, 4, 9, 16, 25]\n"
          ]
        }
      ]
    },
    {
      "cell_type": "code",
      "source": [
        "#2.Write a Python program that uses the `map()` function to square each element of a list of numbers.\n",
        "\n",
        "def square(number):\n",
        "  return number * number\n",
        "numbers=[1,2,3,4,5,6,7,8,9]\n",
        "squared_numbers = list(map(square, numbers))\n",
        "print(squared_numbers)"
      ],
      "metadata": {
        "colab": {
          "base_uri": "https://localhost:8080/"
        },
        "id": "kwpbi9A2yzj_",
        "outputId": "7262b633-3279-4c95-b63f-8ebaf153b652"
      },
      "execution_count": null,
      "outputs": [
        {
          "output_type": "stream",
          "name": "stdout",
          "text": [
            "[1, 4, 9, 16, 25, 36, 49, 64, 81]\n"
          ]
        }
      ]
    },
    {
      "cell_type": "code",
      "source": [
        "#3.How does the map() function differ from a list comprehension in Python, and when would you choose one over the other?\n",
        "\n",
        "##1.Functionality: The map() function applies a given function to each item of an iterable (e.g., a list, tuple) and returns an iterator containing the results.\n",
        "\n",
        "def square(x):\n",
        "  return x * x\n",
        "\n",
        "y = [1, 2, 3, 4, 5]\n",
        "squared_numbers = list(map(square, y))  # Convert the iterator to a list\n",
        "\n",
        "print(squared_numbers)\n",
        "\n"
      ],
      "metadata": {
        "colab": {
          "base_uri": "https://localhost:8080/"
        },
        "id": "hxSnIrjA3134",
        "outputId": "a6d58c77-afe2-4ba7-8e38-cb440e572975"
      },
      "execution_count": null,
      "outputs": [
        {
          "output_type": "stream",
          "name": "stdout",
          "text": [
            "[1, 4, 9, 16, 25]\n"
          ]
        }
      ]
    },
    {
      "cell_type": "code",
      "source": [
        "## List comprehension:Functionality: List comprehensions provide a concise way to create new lists by applying an expression to each item of an existing iterable.\n",
        "numbers = [1, 2, 3, 4, 5]\n",
        "squared_numbers = [x * x for x in numbers]\n",
        "print(squared_numbers)"
      ],
      "metadata": {
        "colab": {
          "base_uri": "https://localhost:8080/"
        },
        "id": "hn4mi8YM5VvE",
        "outputId": "4e36c9be-d2aa-4083-c0e1-1058acea1fb4"
      },
      "execution_count": null,
      "outputs": [
        {
          "output_type": "stream",
          "name": "stdout",
          "text": [
            "[1, 4, 9, 16, 25]\n"
          ]
        }
      ]
    },
    {
      "cell_type": "code",
      "source": [
        "#4.Create a Python program that uses the `map()` function to convert a list of names to uppercase.\n",
        "def upper(s):\n",
        "  return s.upper()\n",
        "names=(\"nitin\",\"sachin\")\n",
        "uppercase_names = list(map(upper, names))\n",
        "print(uppercase_names)\n"
      ],
      "metadata": {
        "colab": {
          "base_uri": "https://localhost:8080/"
        },
        "id": "N9C2YlsD5_R0",
        "outputId": "1cbca473-440b-4d71-def3-8f23d3db1f8d"
      },
      "execution_count": null,
      "outputs": [
        {
          "output_type": "stream",
          "name": "stdout",
          "text": [
            "['NITIN', 'SACHIN']\n"
          ]
        }
      ]
    },
    {
      "cell_type": "code",
      "source": [
        "#5.Write a Python program that uses the `map()` function to calculate the length of each word in a list of strings.\n",
        "\n",
        "def calculate_words_length(word):\n",
        "  return words_lenghts\n",
        "words=(\"nitin\",\"sachin\")\n",
        "lenghts=list(map(len,words))\n",
        "print(lenghts)"
      ],
      "metadata": {
        "colab": {
          "base_uri": "https://localhost:8080/"
        },
        "id": "ZLWTuXy87Cbf",
        "outputId": "0a8d12f8-bb1b-4c2b-c3ac-92d63cc01137"
      },
      "execution_count": null,
      "outputs": [
        {
          "output_type": "stream",
          "name": "stdout",
          "text": [
            "[5, 6]\n"
          ]
        }
      ]
    },
    {
      "cell_type": "code",
      "source": [
        "#6.How can you use the `map()` function to apply a custom function to elements of multiple lists simultaneously in Python?\n",
        "\n",
        "l1=[1,2,3,4,5]\n",
        "l2=[6,7,8,9,10]\n",
        "def add_number(x,y):\n",
        "  return x+y\n",
        "result =list(map(add_number,l1,l2))\n",
        "print(result)"
      ],
      "metadata": {
        "colab": {
          "base_uri": "https://localhost:8080/"
        },
        "id": "RHnasopz82Sa",
        "outputId": "9f7993c6-c50b-4391-b17a-2bb72cfd45ac"
      },
      "execution_count": null,
      "outputs": [
        {
          "output_type": "stream",
          "name": "stdout",
          "text": [
            "[7, 9, 11, 13, 15]\n"
          ]
        }
      ]
    },
    {
      "cell_type": "code",
      "source": [
        "#7.Create a Python program that uses `map()` to convert a list of temperatures from Celsius to Fahrenheit\n",
        "def celsius_to_fahrenheit(celsius):\n",
        "  return (celsius * 9/5) + 32\n",
        "\n",
        "celsius_temperatures = [0, 10, 20, 30, 40]\n",
        "fahrenheit_temperatures = list(map(celsius_to_fahrenheit, celsius_temperatures))\n",
        "print(fahrenheit_temperatures)"
      ],
      "metadata": {
        "colab": {
          "base_uri": "https://localhost:8080/"
        },
        "id": "nH3ldNMIEh5L",
        "outputId": "806ad48a-d5d3-4d08-b35b-23959c8175c4"
      },
      "execution_count": null,
      "outputs": [
        {
          "output_type": "stream",
          "name": "stdout",
          "text": [
            "[32.0, 50.0, 68.0, 86.0, 104.0]\n"
          ]
        }
      ]
    },
    {
      "cell_type": "code",
      "source": [
        "#8.Write a Python program that uses the `map()` function to round each element of a list of floating-point numbers to the nearest integer.\n",
        "numbers = [1.2, 3.7, 5.9, 8.1, 9.5]\n",
        "\n",
        "# Use the built-in round() function with map()\n",
        "rounded_numbers = list(map(round, numbers))\n",
        "\n",
        "print(rounded_numbers)"
      ],
      "metadata": {
        "colab": {
          "base_uri": "https://localhost:8080/"
        },
        "id": "hHl_4drpGaUe",
        "outputId": "d644dddf-aff9-421b-89bc-89b2ad2410c7"
      },
      "execution_count": null,
      "outputs": [
        {
          "output_type": "stream",
          "name": "stdout",
          "text": [
            "[1, 4, 6, 8, 10]\n"
          ]
        }
      ]
    },
    {
      "cell_type": "markdown",
      "source": [
        "Reduce :-\n"
      ],
      "metadata": {
        "id": "PmycuUQ1JNyJ"
      }
    },
    {
      "cell_type": "code",
      "source": [
        "#1.What is the `reduce()` function in Python, and what module should you import to use it? Provide an example of its basic usage.\n",
        "\n",
        "##The reduce() function in Python is used to apply a function to a sequence of elements cumulatively, reducing it to a single value. It works by taking the first two elements of the sequence, applying the function to them, then taking the result and the next element, applying the function again, and so on, until all elements have been processesd.\n",
        "from functools import reduce\n",
        "l=[1,2,3,4,5,6]\n",
        "reduce(lambda x,y:x+y,l)"
      ],
      "metadata": {
        "colab": {
          "base_uri": "https://localhost:8080/"
        },
        "id": "gkCZLvkQJWAo",
        "outputId": "e4db82b4-699a-4530-d954-211f1587e2eb"
      },
      "execution_count": null,
      "outputs": [
        {
          "output_type": "execute_result",
          "data": {
            "text/plain": [
              "21"
            ]
          },
          "metadata": {},
          "execution_count": 41
        }
      ]
    },
    {
      "cell_type": "code",
      "source": [
        "#2.Write a Python program that uses the `reduce()` function to find the product of all elements in a list.\n",
        "l=[1,2,3,4,5,6]\n",
        "reduce(lambda x,y:x*y,l)"
      ],
      "metadata": {
        "colab": {
          "base_uri": "https://localhost:8080/"
        },
        "id": "YEFTQvjBSQDe",
        "outputId": "7f0925bb-a63a-461c-b6e9-1c9eeb3e0a55"
      },
      "execution_count": null,
      "outputs": [
        {
          "output_type": "execute_result",
          "data": {
            "text/plain": [
              "720"
            ]
          },
          "metadata": {},
          "execution_count": 42
        }
      ]
    },
    {
      "cell_type": "code",
      "source": [
        "#3.Create a Python program that uses `reduce()` to find the maximum element in a list of numbers.\n",
        "l=[1,2,3,4,5,6,4,6,7,3,56]\n",
        "reduce(lambda x,y:x if x>y else y,l)"
      ],
      "metadata": {
        "colab": {
          "base_uri": "https://localhost:8080/"
        },
        "id": "-D0N8ElkSwSu",
        "outputId": "ad4fd61b-ef2e-4fc8-dc8c-c4d5c3003872"
      },
      "execution_count": null,
      "outputs": [
        {
          "output_type": "execute_result",
          "data": {
            "text/plain": [
              "56"
            ]
          },
          "metadata": {},
          "execution_count": 44
        }
      ]
    },
    {
      "cell_type": "code",
      "source": [
        "#4.How can you use the `reduce()` function to concatenate a list of strings into a single string?\n",
        "string=[\"hello\",\" \",\"world\",\" \",\"nitin\" ,\"!\"]\n",
        "reduce(lambda x,y:x+y ,string )"
      ],
      "metadata": {
        "colab": {
          "base_uri": "https://localhost:8080/",
          "height": 35
        },
        "id": "pCVBHyUmTGe9",
        "outputId": "f080b08b-52a8-4ef3-9787-30a227b6a286"
      },
      "execution_count": null,
      "outputs": [
        {
          "output_type": "execute_result",
          "data": {
            "text/plain": [
              "'hello world nitin!'"
            ],
            "application/vnd.google.colaboratory.intrinsic+json": {
              "type": "string"
            }
          },
          "metadata": {},
          "execution_count": 51
        }
      ]
    },
    {
      "cell_type": "code",
      "source": [
        "#5.Write a Python program that calculates the factorial of a number using the `reduce()` function.\n",
        "n=int(input(\"enter a number\"))\n",
        "reduce(lambda x,y:x*y,range(1,n+1))"
      ],
      "metadata": {
        "colab": {
          "base_uri": "https://localhost:8080/"
        },
        "id": "eeO9QqczT8O8",
        "outputId": "22bb042a-02e8-4727-8363-bb3756a81771"
      },
      "execution_count": null,
      "outputs": [
        {
          "name": "stdout",
          "output_type": "stream",
          "text": [
            "enter a number5\n"
          ]
        },
        {
          "output_type": "execute_result",
          "data": {
            "text/plain": [
              "120"
            ]
          },
          "metadata": {},
          "execution_count": 52
        }
      ]
    },
    {
      "cell_type": "code",
      "source": [
        "#6.Create a Python program that uses `reduce()` to find the GCD (Greatest Common Divisor) of a list of numbers.\n",
        "from functools import reduce\n",
        "import math\n",
        "\n",
        "def find_gcd(numbers):\n",
        "  \"\"\"Finds the GCD of a list of numbers using reduce().\"\"\"\n",
        "\n",
        "  # Define a function to calculate the GCD of two numbers using math.gcd()\n",
        "  def gcd(a, b):\n",
        "    return math.gcd(a, b)\n",
        "\n",
        "  # Use reduce() to apply the gcd() function to the list of numbers\n",
        "  return reduce(gcd, numbers)\n",
        "\n",
        "# Example usage\n",
        "numbers = [12, 18, 24, 36]\n",
        "gcd_result = find_gcd(numbers)\n",
        "\n",
        "print(f\"The GCD of {numbers} is: {gcd_result}\")\n"
      ],
      "metadata": {
        "id": "2zSuoF1XU3f7",
        "colab": {
          "base_uri": "https://localhost:8080/"
        },
        "outputId": "06568271-7a87-4593-839a-950fdcd4156e"
      },
      "execution_count": null,
      "outputs": [
        {
          "output_type": "stream",
          "name": "stdout",
          "text": [
            "The GCD of [12, 18, 24, 36] is: 6\n"
          ]
        }
      ]
    },
    {
      "cell_type": "code",
      "source": [
        "#7.Write a Python program that uses the `reduce()` function to find the sum of the digits of a given number.\n",
        "def sum_digits(number):\n",
        "  return reduce(lambda x,y:int(x)+int(y),str(number)) ## Convert the number to a string of digits\n",
        "sum_digits(12345)"
      ],
      "metadata": {
        "id": "blvBYosyyEcD",
        "colab": {
          "base_uri": "https://localhost:8080/"
        },
        "outputId": "1fe750b3-99f7-4779-bd0e-84a06213cdd4"
      },
      "execution_count": null,
      "outputs": [
        {
          "output_type": "execute_result",
          "data": {
            "text/plain": [
              "15"
            ]
          },
          "metadata": {},
          "execution_count": 57
        }
      ]
    },
    {
      "cell_type": "markdown",
      "source": [
        "Filter :-\n"
      ],
      "metadata": {
        "id": "VBOacgkg2pvy"
      }
    },
    {
      "cell_type": "code",
      "source": [
        "#1.Explain the purpose of the `filter()` function in Python and provide an example of how it can be used to filter elements from an iterable.\n",
        "l=[1,2,3,4,5,6,7,8,9,10]\n",
        "list(filter(lambda a:a%2!=0,l)) ##`filter()` function to select odd numbers from a list of integers"
      ],
      "metadata": {
        "colab": {
          "base_uri": "https://localhost:8080/"
        },
        "id": "l280FP6G2ome",
        "outputId": "ae2cf6cc-e864-46e6-d3a6-5685a6c71b26"
      },
      "execution_count": null,
      "outputs": [
        {
          "output_type": "execute_result",
          "data": {
            "text/plain": [
              "[1, 3, 5, 7, 9]"
            ]
          },
          "metadata": {},
          "execution_count": 60
        }
      ]
    },
    {
      "cell_type": "code",
      "source": [
        "#2.Write a Python program that uses the `filter()` function to select even numbers from a list of integers.\n",
        "l=[1,2,3,4,5,6,7,8,9,10]\n",
        "list(filter(lambda a:a%2==0,l)) ##`filter()` function to select even numbers from a list of integers"
      ],
      "metadata": {
        "colab": {
          "base_uri": "https://localhost:8080/"
        },
        "id": "cM4RzDTW87sW",
        "outputId": "c0fff31a-ecfd-4323-d1f8-b571a0b61c77"
      },
      "execution_count": null,
      "outputs": [
        {
          "output_type": "execute_result",
          "data": {
            "text/plain": [
              "[2, 4, 6, 8, 10]"
            ]
          },
          "metadata": {},
          "execution_count": 61
        }
      ]
    },
    {
      "cell_type": "code",
      "source": [
        "#3.Create a Python program that uses the `filter()` function to select names that start with a specific letter from a list of strings.\n",
        "l=[\"sachin\",\"Antriksh\",\"Akash\",\"Abhishek\",\"lalit\"]\n",
        "list(filter(lambda a:a[0]==\"A\",l))"
      ],
      "metadata": {
        "colab": {
          "base_uri": "https://localhost:8080/"
        },
        "id": "9jfZQUvC9btr",
        "outputId": "849140f4-260e-4d5f-9ac1-ce1c737a74c9"
      },
      "execution_count": null,
      "outputs": [
        {
          "output_type": "execute_result",
          "data": {
            "text/plain": [
              "['Antriksh', 'Akash', 'Abhishek']"
            ]
          },
          "metadata": {},
          "execution_count": 62
        }
      ]
    },
    {
      "cell_type": "code",
      "source": [
        "#4.Write a Python program that uses the `filter()` function to select prime numbers from a list of integers.\n",
        "l=[1,2,3,4,5,6,7,8,9,10]\n",
        "list(filter(lambda a: a%2!=0 and a%a==0 ,l))"
      ],
      "metadata": {
        "colab": {
          "base_uri": "https://localhost:8080/"
        },
        "id": "GXQYmYR5-Jsd",
        "outputId": "cfed1908-40d7-4672-e6fb-8836054b1b9b"
      },
      "execution_count": null,
      "outputs": [
        {
          "output_type": "execute_result",
          "data": {
            "text/plain": [
              "[1, 3, 5, 7, 9]"
            ]
          },
          "metadata": {},
          "execution_count": 67
        }
      ]
    },
    {
      "cell_type": "code",
      "source": [
        "#5.How can you use the `filter()` function to remove None values from a list in Pytho\n",
        "l = [1, 2, None, 3, 4, None, 5]\n",
        "list(filter(lambda x: x is not None, l)) ##is not = True\n"
      ],
      "metadata": {
        "id": "8ArsBFL0Byx6",
        "colab": {
          "base_uri": "https://localhost:8080/"
        },
        "outputId": "b5632730-d5a3-4963-da62-a4590940c005"
      },
      "execution_count": null,
      "outputs": [
        {
          "output_type": "execute_result",
          "data": {
            "text/plain": [
              "[1, 2, 3, 4, 5]"
            ]
          },
          "metadata": {},
          "execution_count": 72
        }
      ]
    },
    {
      "cell_type": "code",
      "source": [
        "#6.Create a Python program that uses `filter()` to select words longer than a certain length from a list of strings.\n",
        "l=[\"sachin\",\"Antriksh\",\"Akash\",\"Abhishek\",\"lalit\"]\n",
        "list(filter(lambda a:len(a)>6,l))"
      ],
      "metadata": {
        "id": "irz1WOhMBzs-",
        "colab": {
          "base_uri": "https://localhost:8080/"
        },
        "outputId": "73241641-9ec5-482e-c2c4-1b5c3c549a78"
      },
      "execution_count": null,
      "outputs": [
        {
          "output_type": "execute_result",
          "data": {
            "text/plain": [
              "['Antriksh', 'Abhishek']"
            ]
          },
          "metadata": {},
          "execution_count": 75
        }
      ]
    },
    {
      "cell_type": "code",
      "source": [
        "#7.Write a Python program that uses the `filter()` function to select elements greater than a specified threshold from a list of values.\n",
        "data = [10, 20, 30, 40, 50, 60, 70, 80, 90, 100]\n",
        "threshold = 50\n",
        "list(filter(lambda x: x > threshold, data))\n"
      ],
      "metadata": {
        "id": "qt_je-Y-B3Pl",
        "colab": {
          "base_uri": "https://localhost:8080/"
        },
        "outputId": "21661fc7-c2ac-4735-ebb4-ac38bd317889"
      },
      "execution_count": null,
      "outputs": [
        {
          "output_type": "execute_result",
          "data": {
            "text/plain": [
              "[60, 70, 80, 90, 100]"
            ]
          },
          "metadata": {},
          "execution_count": 76
        }
      ]
    },
    {
      "cell_type": "markdown",
      "source": [
        "Recursion:-\n"
      ],
      "metadata": {
        "id": "1Gt6B-AEDz6M"
      }
    },
    {
      "cell_type": "code",
      "source": [
        "#1.Explain the concept of recursion in Python. How does it differ from iteration?\n",
        "\n",
        "##Recursion is a programming technique where a function calls itself within its definition. This process continues until a base case is reached, preventing infinite recursion. Each recursive call creates a new frame on the call stack, storing the function's state. Once the base case is satisfied, the function returns, and the frames on the call stack are unwound, leading to the final result.\n",
        "def factorial_recursive(n):\n",
        "    if n == 0:\n",
        "        return 1\n",
        "    else:\n",
        "        return n * factorial_recursive(n - 1)"
      ],
      "metadata": {
        "id": "wIn9X2VsD27m"
      },
      "execution_count": null,
      "outputs": []
    },
    {
      "cell_type": "code",
      "source": [
        "factorial_recursive(5)"
      ],
      "metadata": {
        "colab": {
          "base_uri": "https://localhost:8080/"
        },
        "id": "9p6AYqY_PO7p",
        "outputId": "65f5a048-ad5b-4e06-c509-280a2497315a"
      },
      "execution_count": null,
      "outputs": [
        {
          "output_type": "execute_result",
          "data": {
            "text/plain": [
              "120"
            ]
          },
          "metadata": {},
          "execution_count": 80
        }
      ]
    },
    {
      "cell_type": "code",
      "source": [
        "##Iteration:-Iteration, on the other hand, uses loops (like for or while) to repeat a block of code until a certain condition is met. The loop iterates over a sequence or data structure, executing the code for each item or element.\n",
        "def def factorial_iterative(n):\n",
        "    result = 1\n",
        "    for i in range(1, n + 1):\n",
        "        result *= i\n",
        "    return result(n):\n",
        "    result = 1\n",
        "    for i in range(1, n + 1):\n",
        "        result *= i\n",
        "    return result\n"
      ],
      "metadata": {
        "id": "3ul2gm2ePixE"
      },
      "execution_count": null,
      "outputs": []
    },
    {
      "cell_type": "code",
      "source": [
        "factorial_iterative(5)\n"
      ],
      "metadata": {
        "colab": {
          "base_uri": "https://localhost:8080/"
        },
        "id": "vDWEW3JQP59F",
        "outputId": "7b112fc0-3274-471e-e5c5-2d83f61fba29"
      },
      "execution_count": null,
      "outputs": [
        {
          "output_type": "execute_result",
          "data": {
            "text/plain": [
              "120"
            ]
          },
          "metadata": {},
          "execution_count": 82
        }
      ]
    },
    {
      "cell_type": "code",
      "source": [
        "#2.Write a Python program to calculate the factorial of a number using recursion.\n",
        "def factorial(n):\n",
        "  if n==0:\n",
        "    return 1\n",
        "  else:\n",
        "    return n * factorial(n-1)\n",
        "\n",
        "factorial(10)"
      ],
      "metadata": {
        "colab": {
          "base_uri": "https://localhost:8080/"
        },
        "id": "3fw_B0NtQCIU",
        "outputId": "e073248d-e4e5-41d0-cb03-f0a44fa4d157"
      },
      "execution_count": null,
      "outputs": [
        {
          "output_type": "execute_result",
          "data": {
            "text/plain": [
              "3628800"
            ]
          },
          "metadata": {},
          "execution_count": 85
        }
      ]
    },
    {
      "cell_type": "code",
      "source": [
        "#3.Create a recursive Python function to find the nth Fibonacci number.\n",
        "\n",
        "def fib_series(n):\n",
        "  if n<=1:\n",
        "    return 1\n",
        "  else:\n",
        "    return fib_series(n-1) + fib_series(n-2)\n",
        "\n",
        "\n",
        "fib_series(7)"
      ],
      "metadata": {
        "id": "61T2BxoaTud2",
        "colab": {
          "base_uri": "https://localhost:8080/"
        },
        "outputId": "528c2661-0156-4a7e-fbd0-b3f8ce8f9215"
      },
      "execution_count": null,
      "outputs": [
        {
          "output_type": "execute_result",
          "data": {
            "text/plain": [
              "21"
            ]
          },
          "metadata": {},
          "execution_count": 4
        }
      ]
    },
    {
      "cell_type": "code",
      "source": [
        "#4.Write a recursive Python function to calculate the sum of all elements in a list.\n",
        "l=[1,2,3,4,5,6,7,8,9,10]\n",
        "def sum_till(n):\n",
        "  if n==1:\n",
        "    return 1\n",
        "  else:\n",
        "    return n+sum_till(n-1)\n",
        "\n",
        "\n",
        "\n",
        "print(sum_till(10))     ##n=10"
      ],
      "metadata": {
        "id": "9CC4fnUGVsER",
        "colab": {
          "base_uri": "https://localhost:8080/"
        },
        "outputId": "ff15b2a7-4cd2-4ea3-ed68-172f50781656"
      },
      "execution_count": null,
      "outputs": [
        {
          "output_type": "stream",
          "name": "stdout",
          "text": [
            "55\n"
          ]
        }
      ]
    },
    {
      "cell_type": "code",
      "source": [
        "#5.How can you prevent a recursive function from running indefinitely, causing a stack overflow error?\n",
        "\n",
        "\n",
        "##Recursive functions work by calling themselves repeatedly. Each call adds a new frame to the program's call stack. If the recursion doesn't stop, the stack eventually overflows, resulting in a RecursionError (or StackOverflowError in some languages).\n",
        "\n",
        "def factorial_tail_recursive(n, accumulator=1):\n",
        "         if n == 0:\n",
        "             return accumulator\n",
        "         else:\n",
        "             return factorial_tail_recursive(n - 1, n * accumulator)\n",
        "\n",
        "factorial_tail_recursive(5)"
      ],
      "metadata": {
        "id": "fJwu__8_Vw6_",
        "colab": {
          "base_uri": "https://localhost:8080/"
        },
        "outputId": "1c83a147-f56c-45a4-8f50-11d0a7f56f38"
      },
      "execution_count": null,
      "outputs": [
        {
          "output_type": "execute_result",
          "data": {
            "text/plain": [
              "120"
            ]
          },
          "metadata": {},
          "execution_count": 6
        }
      ]
    },
    {
      "cell_type": "code",
      "source": [
        "#6.Create a recursive Python function to find the greatest common divisor (GCD) of two numbers using the Euclidean algorithm.\n",
        "\n",
        "def gcd_recursive(a, b):\n",
        "    if b == 0:\n",
        "        return a\n",
        "    else:\n",
        "        return gcd_recursive(b, a % b)\n",
        "\n",
        "\n",
        "gcd_recursive(6,9)      ##a,b=6,9\n"
      ],
      "metadata": {
        "colab": {
          "base_uri": "https://localhost:8080/"
        },
        "id": "QrvM04PBvBzN",
        "outputId": "336b0ed3-58e8-4244-add4-a90a163709ba"
      },
      "execution_count": null,
      "outputs": [
        {
          "output_type": "execute_result",
          "data": {
            "text/plain": [
              "3"
            ]
          },
          "metadata": {},
          "execution_count": 8
        }
      ]
    },
    {
      "cell_type": "code",
      "source": [
        "#7.Write a recursive Python function to reverse a string.\n",
        "\n",
        "def reverse_string(s):\n",
        "  if len(s)==1:\n",
        "    return s\n",
        "\n",
        "  else:\n",
        "    return s[::-1]"
      ],
      "metadata": {
        "id": "S5Ffowkpv79m"
      },
      "execution_count": null,
      "outputs": []
    },
    {
      "cell_type": "code",
      "source": [
        "reverse_string(\"visiglidewire\")"
      ],
      "metadata": {
        "colab": {
          "base_uri": "https://localhost:8080/",
          "height": 35
        },
        "id": "2rkzhhyPw0sC",
        "outputId": "54c14fff-8ff0-4c98-dda4-516f08857b1b"
      },
      "execution_count": null,
      "outputs": [
        {
          "output_type": "execute_result",
          "data": {
            "text/plain": [
              "'eriwedilgisiv'"
            ],
            "application/vnd.google.colaboratory.intrinsic+json": {
              "type": "string"
            }
          },
          "metadata": {},
          "execution_count": 10
        }
      ]
    },
    {
      "cell_type": "code",
      "source": [
        "#8.Create a recursive Python function to calculate the power of a number (x^n).\n",
        "\n",
        "\n",
        "def power(x,n):\n",
        "  if n == 0:\n",
        "    return 1  # Base case: Any number raised to the power of 0 is 1\n",
        "  elif n < 0:\n",
        "    return 1 / power(x, -n)  # Handle negative exponents\n",
        "  else:\n",
        "    return x * power(x, n - 1)  # Recursive step\n",
        "\n",
        "power(4,3)"
      ],
      "metadata": {
        "id": "PlIV0lRLzyTH"
      },
      "execution_count": null,
      "outputs": []
    },
    {
      "cell_type": "code",
      "source": [
        "#10.Write a recursive Python function to check if a string is a palindrome.\n",
        "def palindrome(string):\n",
        "    if len(string) < 1:\n",
        "        return True\n",
        "    else:\n",
        "        if string[0] == string[-1]:\n",
        "            return palindrome(string[1:-1])\n",
        "        else:\n",
        "            return False\n",
        "\n",
        "\n",
        "palindrome(\"repaper\").  ##inpurt repaper"
      ],
      "metadata": {
        "id": "NsYPF2px1U9O"
      },
      "execution_count": null,
      "outputs": []
    },
    {
      "cell_type": "code",
      "source": [],
      "metadata": {
        "id": "R-2IgSv4zzir"
      },
      "execution_count": null,
      "outputs": []
    }
  ]
}